{
 "cells": [
  {
   "cell_type": "code",
   "execution_count": 21,
   "metadata": {},
   "outputs": [],
   "source": [
    "import os\n",
    "import glob\n",
    "import pickle\n",
    "\n",
    "import pandas as pd"
   ]
  },
  {
   "cell_type": "code",
   "execution_count": 3,
   "metadata": {},
   "outputs": [],
   "source": [
    "processed_dir = r'D:\\data\\kaggle_news\\processed'"
   ]
  },
  {
   "cell_type": "code",
   "execution_count": 6,
   "metadata": {},
   "outputs": [],
   "source": [
    "dic_dataset = {}\n",
    "for pklfile in glob.glob(f'{processed_dir}/*.pkl'):\n",
    "    basename = os.path.basename(pklfile).split('.')[0]\n",
    "    dic_dataset[basename] = pickle.load(open(pklfile, 'rb'))"
   ]
  },
  {
   "cell_type": "code",
   "execution_count": 7,
   "metadata": {},
   "outputs": [
    {
     "data": {
      "text/plain": [
       "dict_keys(['dic_all_entity', 'dic_all_news', 'dic_all_news_text', 'dic_all_social', 'dic_all_thread'])"
      ]
     },
     "execution_count": 7,
     "metadata": {},
     "output_type": "execute_result"
    }
   ],
   "source": [
    "dic_dataset.keys()"
   ]
  },
  {
   "cell_type": "code",
   "execution_count": 8,
   "metadata": {},
   "outputs": [],
   "source": [
    "lst_uuid = list(dic_dataset['dic_all_news_text'].keys())"
   ]
  },
  {
   "cell_type": "code",
   "execution_count": 9,
   "metadata": {},
   "outputs": [
    {
     "data": {
      "text/plain": [
       "306188"
      ]
     },
     "execution_count": 9,
     "metadata": {},
     "output_type": "execute_result"
    }
   ],
   "source": [
    "len(lst_uuid)"
   ]
  },
  {
   "cell_type": "code",
   "execution_count": 10,
   "metadata": {},
   "outputs": [],
   "source": [
    "dic_news = dic_dataset['dic_all_news_text'][lst_uuid[0]]"
   ]
  },
  {
   "cell_type": "code",
   "execution_count": 11,
   "metadata": {},
   "outputs": [
    {
     "data": {
      "text/plain": [
       "{'text': '17 Hours Ago | 02:56 \\nEmerging markets soared more than 33 percent in 2017, and Todd Gordon of TradingAnalysis.com says the rally won\\'t stop. \\nA big part of the rally in emerging markets, tracked by the emerging market ETF EEM , was a weak dollar. And given that Gordon still sees the inverse relationship between EEM and the dollar, measured in his charts by the dollar-tracking ETF UUP , he believes the U.S. currency will continue to help the group. \\n\"We have a falling U.S. dollar, which will support international and emerging market currencies and will give those EEM stocks a boost,\" Gordon said Tuesday on CNBC\\'s \"Trading Nation.\" The U.S. dollar in 2017 posted its worst annual performance in 14 years, while EEM saw its best performance since 2013. \\nAs for how high the latter could go, Gordon says EEM has broken \"resistance\" at around $45, which was the ETF\\'s 2014 highs. That $45 region is now what he calls \"support,\" and he sees it rallying to $50, which the ETF hasn\\'t hit since mid-2011. \\nTo play for a move higher, Gordon suggested buying the February 48/50 call spread for 72 cents, or $72 per options contract. This means that if EEM closes above $50 on Feb. 16, then Gordon could make a maximum reward of $128 on the trade. \\nBut if EEM were to close below $48, then Gordon would lose the $72 he paid for the trade. As a result, Gordon wants to establish a point at which to get out. \\n\"If the 72 cent premium we just laid out gets cut in half to about 36 cents, let\\'s cut the trade and move on,\" he said. \\nEEM started the year off strong, rallying more than 1 percent on Tuesday.'}"
      ]
     },
     "execution_count": 11,
     "metadata": {},
     "output_type": "execute_result"
    }
   ],
   "source": [
    "dic_news"
   ]
  },
  {
   "cell_type": "code",
   "execution_count": 12,
   "metadata": {},
   "outputs": [],
   "source": [
    "import spacy"
   ]
  },
  {
   "cell_type": "code",
   "execution_count": 14,
   "metadata": {},
   "outputs": [],
   "source": [
    "nlp = spacy.load('en_core_web_lg')"
   ]
  },
  {
   "cell_type": "code",
   "execution_count": 15,
   "metadata": {},
   "outputs": [],
   "source": [
    "doc = nlp(dic_news['text'])"
   ]
  },
  {
   "cell_type": "code",
   "execution_count": 16,
   "metadata": {},
   "outputs": [],
   "source": [
    "tokens = [token for token in doc]"
   ]
  },
  {
   "cell_type": "code",
   "execution_count": 34,
   "metadata": {},
   "outputs": [],
   "source": [
    "lemma = [token.lemma_ for token in tokens]\n",
    "lemma_lower = [x.lower() for x in lemma]"
   ]
  },
  {
   "cell_type": "code",
   "execution_count": 26,
   "metadata": {},
   "outputs": [
    {
     "data": {
      "text/html": [
       "<div>\n",
       "<style scoped>\n",
       "    .dataframe tbody tr th:only-of-type {\n",
       "        vertical-align: middle;\n",
       "    }\n",
       "\n",
       "    .dataframe tbody tr th {\n",
       "        vertical-align: top;\n",
       "    }\n",
       "\n",
       "    .dataframe thead th {\n",
       "        text-align: right;\n",
       "    }\n",
       "</style>\n",
       "<table border=\"1\" class=\"dataframe\">\n",
       "  <thead>\n",
       "    <tr style=\"text-align: right;\">\n",
       "      <th></th>\n",
       "      <th>0</th>\n",
       "      <th>1</th>\n",
       "      <th>2</th>\n",
       "      <th>3</th>\n",
       "      <th>4</th>\n",
       "      <th>5</th>\n",
       "      <th>6</th>\n",
       "      <th>7</th>\n",
       "      <th>8</th>\n",
       "      <th>9</th>\n",
       "      <th>...</th>\n",
       "      <th>347</th>\n",
       "      <th>348</th>\n",
       "      <th>349</th>\n",
       "      <th>350</th>\n",
       "      <th>351</th>\n",
       "      <th>352</th>\n",
       "      <th>353</th>\n",
       "      <th>354</th>\n",
       "      <th>355</th>\n",
       "      <th>356</th>\n",
       "    </tr>\n",
       "  </thead>\n",
       "  <tbody>\n",
       "    <tr>\n",
       "      <th>0</th>\n",
       "      <td>17</td>\n",
       "      <td>Hours</td>\n",
       "      <td>Ago</td>\n",
       "      <td>|</td>\n",
       "      <td>02:56</td>\n",
       "      <td>\\n</td>\n",
       "      <td>Emerging</td>\n",
       "      <td>markets</td>\n",
       "      <td>soared</td>\n",
       "      <td>more</td>\n",
       "      <td>...</td>\n",
       "      <td>strong</td>\n",
       "      <td>,</td>\n",
       "      <td>rallying</td>\n",
       "      <td>more</td>\n",
       "      <td>than</td>\n",
       "      <td>1</td>\n",
       "      <td>percent</td>\n",
       "      <td>on</td>\n",
       "      <td>Tuesday</td>\n",
       "      <td>.</td>\n",
       "    </tr>\n",
       "    <tr>\n",
       "      <th>1</th>\n",
       "      <td>17</td>\n",
       "      <td>hour</td>\n",
       "      <td>ago</td>\n",
       "      <td>|</td>\n",
       "      <td>02:56</td>\n",
       "      <td>\\n</td>\n",
       "      <td>emerge</td>\n",
       "      <td>market</td>\n",
       "      <td>soar</td>\n",
       "      <td>more</td>\n",
       "      <td>...</td>\n",
       "      <td>strong</td>\n",
       "      <td>,</td>\n",
       "      <td>rally</td>\n",
       "      <td>more</td>\n",
       "      <td>than</td>\n",
       "      <td>1</td>\n",
       "      <td>percent</td>\n",
       "      <td>on</td>\n",
       "      <td>Tuesday</td>\n",
       "      <td>.</td>\n",
       "    </tr>\n",
       "  </tbody>\n",
       "</table>\n",
       "<p>2 rows × 357 columns</p>\n",
       "</div>"
      ],
      "text/plain": [
       "  0      1    2   3      4   5         6        7       8     9    ...   \n",
       "0  17  Hours  Ago   |  02:56  \\n  Emerging  markets  soared  more  ...  \\\n",
       "1  17   hour  ago   |  02:56  \\n    emerge   market    soar  more  ...   \n",
       "\n",
       "      347 348       349   350   351 352      353 354      355 356  \n",
       "0  strong   ,  rallying  more  than   1  percent  on  Tuesday   .  \n",
       "1  strong   ,     rally  more  than   1  percent  on  Tuesday   .  \n",
       "\n",
       "[2 rows x 357 columns]"
      ]
     },
     "execution_count": 26,
     "metadata": {},
     "output_type": "execute_result"
    }
   ],
   "source": []
  },
  {
   "cell_type": "code",
   "execution_count": 27,
   "metadata": {},
   "outputs": [],
   "source": [
    "df_basel_risk_norms = pd.read_csv('risk_mean_basel_risk_norms.csv')"
   ]
  },
  {
   "cell_type": "code",
   "execution_count": 31,
   "metadata": {},
   "outputs": [],
   "source": [
    "lst_BRN_lower = [x.strip().lower() for x in df_basel_risk_norms.source]"
   ]
  },
  {
   "cell_type": "code",
   "execution_count": 36,
   "metadata": {},
   "outputs": [
    {
     "name": "stdout",
     "output_type": "stream",
     "text": [
      "relationship\n",
      "fall\n"
     ]
    }
   ],
   "source": [
    "for x in lemma_lower:\n",
    "    if x in lst_BRN_lower:\n",
    "        print(x)"
   ]
  }
 ],
 "metadata": {
  "kernelspec": {
   "display_name": "cbert",
   "language": "python",
   "name": "python3"
  },
  "language_info": {
   "codemirror_mode": {
    "name": "ipython",
    "version": 3
   },
   "file_extension": ".py",
   "mimetype": "text/x-python",
   "name": "python",
   "nbconvert_exporter": "python",
   "pygments_lexer": "ipython3",
   "version": "3.9.13"
  },
  "orig_nbformat": 4
 },
 "nbformat": 4,
 "nbformat_minor": 2
}
