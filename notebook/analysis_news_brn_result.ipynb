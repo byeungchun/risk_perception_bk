{
 "cells": [
  {
   "cell_type": "code",
   "execution_count": 1,
   "metadata": {},
   "outputs": [],
   "source": [
    "import os\n",
    "\n",
    "import pandas as pd"
   ]
  },
  {
   "cell_type": "code",
   "execution_count": 5,
   "metadata": {},
   "outputs": [],
   "source": [
    "df_all = pd.read_parquet('../df_all.parquet')"
   ]
  },
  {
   "cell_type": "code",
   "execution_count": 6,
   "metadata": {},
   "outputs": [],
   "source": [
    "df_brn = pd.read_csv('../risk_mean_basel_risk_norms.csv')\n",
    "df_brn['source_lower'] = df_brn['source'].str.lower()"
   ]
  },
  {
   "cell_type": "code",
   "execution_count": 12,
   "metadata": {},
   "outputs": [],
   "source": [
    "dic_riskwords = {x: 0 for x in df_brn.source_lower.to_list()}"
   ]
  },
  {
   "cell_type": "code",
   "execution_count": 17,
   "metadata": {},
   "outputs": [],
   "source": [
    "for lst_word in df_all.risk_word:\n",
    "    for word in lst_word:\n",
    "        if word in dic_riskwords:\n",
    "            dic_riskwords[word] += 1"
   ]
  },
  {
   "cell_type": "code",
   "execution_count": 20,
   "metadata": {},
   "outputs": [],
   "source": [
    "pd.Series(dic_riskwords).sort_values(ascending=False).to_csv('risk_words_count.csv')\n"
   ]
  },
  {
   "cell_type": "code",
   "execution_count": 22,
   "metadata": {},
   "outputs": [
    {
     "data": {
      "text/plain": [
       "net           410521\n",
       "government    122694\n",
       "china         115279\n",
       "people        110564\n",
       "technology     89710\n",
       "industry       89026\n",
       "board          81596\n",
       "fall           68781\n",
       "energy         67349\n",
       "health         55636\n",
       "gas            48772\n",
       "facebook       43315\n",
       "america        38597\n",
       "canada         38450\n",
       "insurance      35561\n",
       "street         34108\n",
       "class          33391\n",
       "car            32865\n",
       "job            32722\n",
       "war            31871\n",
       "dtype: int64"
      ]
     },
     "execution_count": 22,
     "metadata": {},
     "output_type": "execute_result"
    }
   ],
   "source": [
    "pd.Series(dic_riskwords).sort_values(ascending=False)[:20]"
   ]
  }
 ],
 "metadata": {
  "kernelspec": {
   "display_name": "cds",
   "language": "python",
   "name": "python3"
  },
  "language_info": {
   "codemirror_mode": {
    "name": "ipython",
    "version": 3
   },
   "file_extension": ".py",
   "mimetype": "text/x-python",
   "name": "python",
   "nbconvert_exporter": "python",
   "pygments_lexer": "ipython3",
   "version": "3.11.2"
  }
 },
 "nbformat": 4,
 "nbformat_minor": 2
}
