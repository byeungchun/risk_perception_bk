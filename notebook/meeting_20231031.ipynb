{
 "cells": [
  {
   "cell_type": "code",
   "execution_count": 38,
   "metadata": {},
   "outputs": [],
   "source": [
    "import re\n",
    "\n",
    "import json\n",
    "import glob\n",
    "import pickle\n",
    "import pandas as pd\n",
    "\n",
    "from tqdm import tqdm"
   ]
  },
  {
   "cell_type": "markdown",
   "metadata": {},
   "source": [
    "#### Sample news file"
   ]
  },
  {
   "cell_type": "code",
   "execution_count": 3,
   "metadata": {},
   "outputs": [],
   "source": [
    "newsfile_folder = \"sample_news\"\n",
    "lst_newsfile = glob.glob(f'{newsfile_folder}/*.json')"
   ]
  },
  {
   "cell_type": "code",
   "execution_count": 12,
   "metadata": {},
   "outputs": [
    {
     "name": "stderr",
     "output_type": "stream",
     "text": [
      "100%|██████████| 12/12 [00:00<00:00, 55.81it/s]\n"
     ]
    }
   ],
   "source": [
    "dic_all_news = {}\n",
    "dic_all_thread = {}\n",
    "dic_all_social = {}\n",
    "dic_all_entity = {}\n",
    "dic_all_news_text = {}\n",
    "\n",
    "for i, jsonfile in enumerate(tqdm(lst_newsfile)):\n",
    "    \n",
    "    dic_news = json.load(open(jsonfile, 'rt', encoding='utf-8'))\n",
    "    uuid = dic_news.pop('uuid')\n",
    "    dic_all_news[uuid] = dic_news\n",
    "    \n",
    "    dic_thread = dic_news.pop('thread')\n",
    "    \n",
    "    news_text = dic_news.pop('text')\n",
    "    news_word = re.compile('\\w+').findall(news_text)\n",
    "    news_word_cnt = len(news_word)\n",
    "    \n",
    "    dic_news['word_cnt'] = news_word_cnt\n",
    "\n",
    "    dic_all_social[uuid] = dic_thread.pop('social')\n",
    "    dic_all_thread[uuid] = dic_thread\n",
    "    dic_all_entity[uuid] = dic_news.pop('entities')\n",
    "\n",
    "    dic_all_news[uuid] = dic_news\n",
    "\n",
    "    dic_all_news_text[uuid] = {'text': news_text} "
   ]
  },
  {
   "cell_type": "code",
   "execution_count": 16,
   "metadata": {},
   "outputs": [
    {
     "data": {
      "text/plain": [
       "site_full                                               www.reuters.com\n",
       "main_image            https://s3.reutersmedia.net/resources/r/?m=02&...\n",
       "site_section            http://feeds.reuters.com/Reuters/domesticNews\\r\n",
       "section_title                                             Reuters: U.S.\n",
       "url                   https://www.reuters.com/article/us-usa-congres...\n",
       "country                                                              US\n",
       "domain_rank                                                         408\n",
       "title                 New York governor vows to reopen Statue of Lib...\n",
       "performance_score                                                     0\n",
       "site                                                        reuters.com\n",
       "participants_count                                                    0\n",
       "title_full                                                             \n",
       "spam_score                                                          0.0\n",
       "site_type                                                          news\n",
       "published                                 2018-01-21T17:59:00.000+02:00\n",
       "replies_count                                                         0\n",
       "uuid                           9ffc2761c140140a6045634a6b796545cdc7d527\n",
       "Name: 9ffc2761c140140a6045634a6b796545cdc7d527, dtype: object"
      ]
     },
     "execution_count": 16,
     "metadata": {},
     "output_type": "execute_result"
    }
   ],
   "source": [
    "# News summary\n",
    "pd.DataFrame(dic_all_thread).iloc[:,0]"
   ]
  },
  {
   "cell_type": "code",
   "execution_count": 18,
   "metadata": {},
   "outputs": [
    {
     "data": {
      "text/html": [
       "<div>\n",
       "<style scoped>\n",
       "    .dataframe tbody tr th:only-of-type {\n",
       "        vertical-align: middle;\n",
       "    }\n",
       "\n",
       "    .dataframe tbody tr th {\n",
       "        vertical-align: top;\n",
       "    }\n",
       "\n",
       "    .dataframe thead th {\n",
       "        text-align: right;\n",
       "    }\n",
       "</style>\n",
       "<table border=\"1\" class=\"dataframe\">\n",
       "  <thead>\n",
       "    <tr style=\"text-align: right;\">\n",
       "      <th></th>\n",
       "      <th>9ffc2761c140140a6045634a6b796545cdc7d527</th>\n",
       "      <th>1abc05717f0e963fe3dd02ca358f0bec054ceb15</th>\n",
       "      <th>c3e18a375ba54301b362a50d8dd9c234c47e8f8d</th>\n",
       "      <th>06adf09661e2ee0d4507414a63c54524151464d6</th>\n",
       "      <th>ad2da1253c614cdfe7c6b7d3ad300653242d1e26</th>\n",
       "      <th>23853b6744efbdba05a01e62c2b6650899e32335</th>\n",
       "      <th>4c290fa8f25b7f902c68032077a97843c3e0d1c9</th>\n",
       "      <th>1c3c60f45253ab2f2f694b37429f0a0be586e15d</th>\n",
       "      <th>2438a248e4e16b4bb2bc07ad50bb9e2e57c31b6b</th>\n",
       "      <th>e04c9d68f0df5992cdf580487f3a3fa7a95dd979</th>\n",
       "      <th>87db2df1ed7327f6b454f98af315762469c3751a</th>\n",
       "      <th>6b5407527453febbd96f661553bf5606e1c2ec3e</th>\n",
       "    </tr>\n",
       "  </thead>\n",
       "  <tbody>\n",
       "    <tr>\n",
       "      <th>gplus</th>\n",
       "      <td>{'shares': 0}</td>\n",
       "      <td>{'shares': 0}</td>\n",
       "      <td>{'shares': 0}</td>\n",
       "      <td>{'shares': 0}</td>\n",
       "      <td>{'shares': 0}</td>\n",
       "      <td>{'shares': 0}</td>\n",
       "      <td>{'shares': 0}</td>\n",
       "      <td>{'shares': 0}</td>\n",
       "      <td>{'shares': 0}</td>\n",
       "      <td>{'shares': 0}</td>\n",
       "      <td>{'shares': 0}</td>\n",
       "      <td>{'shares': 0}</td>\n",
       "    </tr>\n",
       "    <tr>\n",
       "      <th>pinterest</th>\n",
       "      <td>{'shares': 0}</td>\n",
       "      <td>{'shares': 0}</td>\n",
       "      <td>{'shares': 0}</td>\n",
       "      <td>{'shares': 0}</td>\n",
       "      <td>{'shares': 0}</td>\n",
       "      <td>{'shares': 0}</td>\n",
       "      <td>{'shares': 0}</td>\n",
       "      <td>{'shares': 0}</td>\n",
       "      <td>{'shares': 0}</td>\n",
       "      <td>{'shares': 0}</td>\n",
       "      <td>{'shares': 0}</td>\n",
       "      <td>{'shares': 0}</td>\n",
       "    </tr>\n",
       "    <tr>\n",
       "      <th>vk</th>\n",
       "      <td>{'shares': 0}</td>\n",
       "      <td>{'shares': 0}</td>\n",
       "      <td>{'shares': 0}</td>\n",
       "      <td>{'shares': 0}</td>\n",
       "      <td>{'shares': 0}</td>\n",
       "      <td>{'shares': 0}</td>\n",
       "      <td>{'shares': 0}</td>\n",
       "      <td>{'shares': 0}</td>\n",
       "      <td>{'shares': 0}</td>\n",
       "      <td>{'shares': 0}</td>\n",
       "      <td>{'shares': 0}</td>\n",
       "      <td>{'shares': 0}</td>\n",
       "    </tr>\n",
       "    <tr>\n",
       "      <th>linkedin</th>\n",
       "      <td>{'shares': 0}</td>\n",
       "      <td>{'shares': 0}</td>\n",
       "      <td>{'shares': 0}</td>\n",
       "      <td>{'shares': 0}</td>\n",
       "      <td>{'shares': 0}</td>\n",
       "      <td>{'shares': 0}</td>\n",
       "      <td>{'shares': 0}</td>\n",
       "      <td>{'shares': 0}</td>\n",
       "      <td>{'shares': 0}</td>\n",
       "      <td>{'shares': 0}</td>\n",
       "      <td>{'shares': 0}</td>\n",
       "      <td>{'shares': 0}</td>\n",
       "    </tr>\n",
       "    <tr>\n",
       "      <th>facebook</th>\n",
       "      <td>{'likes': 0, 'shares': 0, 'comments': 0}</td>\n",
       "      <td>{'likes': 0, 'shares': 0, 'comments': 0}</td>\n",
       "      <td>{'likes': 0, 'shares': 0, 'comments': 0}</td>\n",
       "      <td>{'likes': 0, 'shares': 0, 'comments': 0}</td>\n",
       "      <td>{'likes': 0, 'shares': 0, 'comments': 0}</td>\n",
       "      <td>{'likes': 0, 'shares': 0, 'comments': 0}</td>\n",
       "      <td>{'likes': 0, 'shares': 0, 'comments': 0}</td>\n",
       "      <td>{'likes': 0, 'shares': 0, 'comments': 0}</td>\n",
       "      <td>{'likes': 0, 'shares': 0, 'comments': 0}</td>\n",
       "      <td>{'likes': 0, 'shares': 0, 'comments': 0}</td>\n",
       "      <td>{'likes': 0, 'shares': 0, 'comments': 0}</td>\n",
       "      <td>{'likes': 0, 'shares': 0, 'comments': 0}</td>\n",
       "    </tr>\n",
       "    <tr>\n",
       "      <th>stumbledupon</th>\n",
       "      <td>{'shares': 0}</td>\n",
       "      <td>{'shares': 0}</td>\n",
       "      <td>{'shares': 0}</td>\n",
       "      <td>{'shares': 0}</td>\n",
       "      <td>{'shares': 0}</td>\n",
       "      <td>{'shares': 0}</td>\n",
       "      <td>{'shares': 0}</td>\n",
       "      <td>{'shares': 0}</td>\n",
       "      <td>{'shares': 0}</td>\n",
       "      <td>{'shares': 0}</td>\n",
       "      <td>{'shares': 0}</td>\n",
       "      <td>{'shares': 0}</td>\n",
       "    </tr>\n",
       "  </tbody>\n",
       "</table>\n",
       "</div>"
      ],
      "text/plain": [
       "              9ffc2761c140140a6045634a6b796545cdc7d527  \\\n",
       "gplus                                    {'shares': 0}   \n",
       "pinterest                                {'shares': 0}   \n",
       "vk                                       {'shares': 0}   \n",
       "linkedin                                 {'shares': 0}   \n",
       "facebook      {'likes': 0, 'shares': 0, 'comments': 0}   \n",
       "stumbledupon                             {'shares': 0}   \n",
       "\n",
       "              1abc05717f0e963fe3dd02ca358f0bec054ceb15  \\\n",
       "gplus                                    {'shares': 0}   \n",
       "pinterest                                {'shares': 0}   \n",
       "vk                                       {'shares': 0}   \n",
       "linkedin                                 {'shares': 0}   \n",
       "facebook      {'likes': 0, 'shares': 0, 'comments': 0}   \n",
       "stumbledupon                             {'shares': 0}   \n",
       "\n",
       "              c3e18a375ba54301b362a50d8dd9c234c47e8f8d  \\\n",
       "gplus                                    {'shares': 0}   \n",
       "pinterest                                {'shares': 0}   \n",
       "vk                                       {'shares': 0}   \n",
       "linkedin                                 {'shares': 0}   \n",
       "facebook      {'likes': 0, 'shares': 0, 'comments': 0}   \n",
       "stumbledupon                             {'shares': 0}   \n",
       "\n",
       "              06adf09661e2ee0d4507414a63c54524151464d6  \\\n",
       "gplus                                    {'shares': 0}   \n",
       "pinterest                                {'shares': 0}   \n",
       "vk                                       {'shares': 0}   \n",
       "linkedin                                 {'shares': 0}   \n",
       "facebook      {'likes': 0, 'shares': 0, 'comments': 0}   \n",
       "stumbledupon                             {'shares': 0}   \n",
       "\n",
       "              ad2da1253c614cdfe7c6b7d3ad300653242d1e26  \\\n",
       "gplus                                    {'shares': 0}   \n",
       "pinterest                                {'shares': 0}   \n",
       "vk                                       {'shares': 0}   \n",
       "linkedin                                 {'shares': 0}   \n",
       "facebook      {'likes': 0, 'shares': 0, 'comments': 0}   \n",
       "stumbledupon                             {'shares': 0}   \n",
       "\n",
       "              23853b6744efbdba05a01e62c2b6650899e32335  \\\n",
       "gplus                                    {'shares': 0}   \n",
       "pinterest                                {'shares': 0}   \n",
       "vk                                       {'shares': 0}   \n",
       "linkedin                                 {'shares': 0}   \n",
       "facebook      {'likes': 0, 'shares': 0, 'comments': 0}   \n",
       "stumbledupon                             {'shares': 0}   \n",
       "\n",
       "              4c290fa8f25b7f902c68032077a97843c3e0d1c9  \\\n",
       "gplus                                    {'shares': 0}   \n",
       "pinterest                                {'shares': 0}   \n",
       "vk                                       {'shares': 0}   \n",
       "linkedin                                 {'shares': 0}   \n",
       "facebook      {'likes': 0, 'shares': 0, 'comments': 0}   \n",
       "stumbledupon                             {'shares': 0}   \n",
       "\n",
       "              1c3c60f45253ab2f2f694b37429f0a0be586e15d  \\\n",
       "gplus                                    {'shares': 0}   \n",
       "pinterest                                {'shares': 0}   \n",
       "vk                                       {'shares': 0}   \n",
       "linkedin                                 {'shares': 0}   \n",
       "facebook      {'likes': 0, 'shares': 0, 'comments': 0}   \n",
       "stumbledupon                             {'shares': 0}   \n",
       "\n",
       "              2438a248e4e16b4bb2bc07ad50bb9e2e57c31b6b  \\\n",
       "gplus                                    {'shares': 0}   \n",
       "pinterest                                {'shares': 0}   \n",
       "vk                                       {'shares': 0}   \n",
       "linkedin                                 {'shares': 0}   \n",
       "facebook      {'likes': 0, 'shares': 0, 'comments': 0}   \n",
       "stumbledupon                             {'shares': 0}   \n",
       "\n",
       "              e04c9d68f0df5992cdf580487f3a3fa7a95dd979  \\\n",
       "gplus                                    {'shares': 0}   \n",
       "pinterest                                {'shares': 0}   \n",
       "vk                                       {'shares': 0}   \n",
       "linkedin                                 {'shares': 0}   \n",
       "facebook      {'likes': 0, 'shares': 0, 'comments': 0}   \n",
       "stumbledupon                             {'shares': 0}   \n",
       "\n",
       "              87db2df1ed7327f6b454f98af315762469c3751a  \\\n",
       "gplus                                    {'shares': 0}   \n",
       "pinterest                                {'shares': 0}   \n",
       "vk                                       {'shares': 0}   \n",
       "linkedin                                 {'shares': 0}   \n",
       "facebook      {'likes': 0, 'shares': 0, 'comments': 0}   \n",
       "stumbledupon                             {'shares': 0}   \n",
       "\n",
       "              6b5407527453febbd96f661553bf5606e1c2ec3e  \n",
       "gplus                                    {'shares': 0}  \n",
       "pinterest                                {'shares': 0}  \n",
       "vk                                       {'shares': 0}  \n",
       "linkedin                                 {'shares': 0}  \n",
       "facebook      {'likes': 0, 'shares': 0, 'comments': 0}  \n",
       "stumbledupon                             {'shares': 0}  "
      ]
     },
     "execution_count": 18,
     "metadata": {},
     "output_type": "execute_result"
    }
   ],
   "source": [
    "# Social media reaction to each news\n",
    "pd.DataFrame(dic_all_social)"
   ]
  },
  {
   "cell_type": "code",
   "execution_count": 20,
   "metadata": {},
   "outputs": [
    {
     "data": {
      "text/plain": [
       "persons          [{'name': 'ryan zinke', 'sentiment': 'none'}, ...\n",
       "locations        [{'name': 'new york', 'sentiment': 'none'}, {'...\n",
       "organizations    [{'name': 'congress', 'sentiment': 'none'}, {'...\n",
       "Name: 9ffc2761c140140a6045634a6b796545cdc7d527, dtype: object"
      ]
     },
     "execution_count": 20,
     "metadata": {},
     "output_type": "execute_result"
    }
   ],
   "source": [
    "# NER extraction\n",
    "pd.DataFrame(dic_all_entity).iloc[:,0]"
   ]
  },
  {
   "cell_type": "code",
   "execution_count": 24,
   "metadata": {},
   "outputs": [
    {
     "name": "stdout",
     "output_type": "stream",
     "text": [
      "NEW YORK (Reuters) - The Statue of Liberty will reopen on Monday even if the U.S. government shutdown extends into the work week, New York Governor Andrew Cuomo said on Sunday, vowing to use state funds to keep the landmark monument in operation.\n",
      "Dozens of other national parks and monuments were expected to remain partially or entirely closed after Congress failed to agree on a spending plan to keep the government running past a Friday midnight deadline.\n",
      "In the hours leading up to the shutdown, the Trump administration worked on ways to keep hundreds of parks open without staff in an effort to avoid public anger, although it was unclear which ones would close.\n",
      "“Not all parks are fully open but we are all working hard to make as many areas as accessible to the public as possible,” U.S. Interior Secretary Ryan Zinke said on Twitter on Saturday.\n",
      "The hit-or-miss closures forced tourists and residents alike to alter their plans. In lower Manhattan, where ferries normally embark for the Statue of Liberty in New York Harbor, out-of-town visitors expressed frustration that the site was closed.\n",
      "And San Diego Police Chief Shelley Zimmerman posted a photo of a “closed” sign outside Cabrillo National Monument on Twitter.\n",
      "“I had planned to do some tide pool repeats to get some hill work in on my bicycle ride this morning,” she wrote, referring to a local bike route. “Change of plans.”\n",
      "The National Parks Conservation Association, an advocacy group, estimated that one-third of the 417 national park sites were shuttered, “including places like the Statue of Liberty, presidential homes, and other historic and cultural sites primarily made up of buildings that can be locked.”\n",
      "A sign announcing the closure of the Statue of Liberty, due to the U.S. government shutdown, sits near the ferry dock to the Statue of Liberty at Battery Park in Manhattan, New York, U.S. January 21, 2018. REUTERS/Shannon Stapleton Yellowstone National Park, a 3,500-square-mile (9,065 square km) wilderness located mostly in Montana, remained open but offered limited services, with visitor centers closed and park rangers absent. The association warned that the lack of staff could pose dangers to visitors.\n",
      "Xanterra Parks & Resorts, a private company that manages lodges, concessions and restaurants in numerous national parks including Yellowstone, Grand Canyon, Mount Rushmore, Rocky Mountain and Zion, said they will remain open during the shutdown.\n",
      "In Washington, the Smithsonian museums and the National Zoo will remain open through Monday, using prior-year funds. In a tweet, the Smithsonian said it will update its status beyond Monday “as soon as we know.” But in Philadelphia, visitors were turned away at the Liberty Bell.\n",
      "Slideshow (3 Images) During the last shutdown in 2013, a number of governors used state funds to keep parks open, including the Statue of Liberty, which at the time cost $61,600 per day to reopen.\n",
      "At a news conference at the Statue of Liberty, Cuomo said the site generates tourism revenue, adding that the monument serves as a welcoming beacon to immigrants arriving in the United States.\n",
      "“We don’t want to lose the income,” he said. “And symbolically, you can shut down the government, but you can’t shut down the Statue of Liberty.”\n",
      "In Arizona, Republican Governor Doug Ducey committed state funds to keep the Grand Canyon open, including trash removal, snow plowing and public restrooms, according to Ducey spokesman Patrick Ptak.\n",
      "“We recognize it’s a huge economic attractor and has a big impact not just on rural areas around the Grand Canyon but the state as a whole,” Ptak said, adding that the expected cost is around $100,000 per week.\n",
      "But in South Dakota, home of Mount Rushmore, Republican Governor Dennis Daugaard has said he would not take any action to keep the monument open during a shutdown.\n",
      "Reporting by Joseph Ax; Editing by Frank McGurty and Jeffrey Benkoe\n",
      " \n"
     ]
    }
   ],
   "source": [
    "# News text\n",
    "print(pd.DataFrame(dic_all_news_text).iloc[0,0])"
   ]
  },
  {
   "cell_type": "markdown",
   "metadata": {},
   "source": [
    "#### News words - VIX table"
   ]
  },
  {
   "cell_type": "code",
   "execution_count": 25,
   "metadata": {},
   "outputs": [
    {
     "data": {
      "text/html": [
       "<div>\n",
       "<style scoped>\n",
       "    .dataframe tbody tr th:only-of-type {\n",
       "        vertical-align: middle;\n",
       "    }\n",
       "\n",
       "    .dataframe tbody tr th {\n",
       "        vertical-align: top;\n",
       "    }\n",
       "\n",
       "    .dataframe thead th {\n",
       "        text-align: right;\n",
       "    }\n",
       "</style>\n",
       "<table border=\"1\" class=\"dataframe\">\n",
       "  <thead>\n",
       "    <tr style=\"text-align: right;\">\n",
       "      <th></th>\n",
       "      <th>risk_word</th>\n",
       "      <th>VIXCLS</th>\n",
       "      <th>num_words</th>\n",
       "      <th>risk_score</th>\n",
       "    </tr>\n",
       "    <tr>\n",
       "      <th>pubdate</th>\n",
       "      <th></th>\n",
       "      <th></th>\n",
       "      <th></th>\n",
       "      <th></th>\n",
       "    </tr>\n",
       "  </thead>\n",
       "  <tbody>\n",
       "    <tr>\n",
       "      <th>2018-01-01</th>\n",
       "      <td>[death, death, pilot, crash, australia]</td>\n",
       "      <td>9.77</td>\n",
       "      <td>5</td>\n",
       "      <td>223.670163</td>\n",
       "    </tr>\n",
       "    <tr>\n",
       "      <th>2018-01-01</th>\n",
       "      <td>[slide, fall, street]</td>\n",
       "      <td>9.77</td>\n",
       "      <td>3</td>\n",
       "      <td>NaN</td>\n",
       "    </tr>\n",
       "    <tr>\n",
       "      <th>2018-01-01</th>\n",
       "      <td>[doll, doll, space, science, doll, science, te...</td>\n",
       "      <td>9.77</td>\n",
       "      <td>11</td>\n",
       "      <td>NaN</td>\n",
       "    </tr>\n",
       "    <tr>\n",
       "      <th>2018-01-01</th>\n",
       "      <td>[machinery, street, criminal, government]</td>\n",
       "      <td>9.77</td>\n",
       "      <td>4</td>\n",
       "      <td>65.228758</td>\n",
       "    </tr>\n",
       "    <tr>\n",
       "      <th>2018-01-01</th>\n",
       "      <td>[army, military, air, army, army, army, warfar...</td>\n",
       "      <td>9.77</td>\n",
       "      <td>13</td>\n",
       "      <td>268.806432</td>\n",
       "    </tr>\n",
       "  </tbody>\n",
       "</table>\n",
       "</div>"
      ],
      "text/plain": [
       "                                                    risk_word  VIXCLS  \\\n",
       "pubdate                                                                 \n",
       "2018-01-01            [death, death, pilot, crash, australia]    9.77   \n",
       "2018-01-01                              [slide, fall, street]    9.77   \n",
       "2018-01-01  [doll, doll, space, science, doll, science, te...    9.77   \n",
       "2018-01-01          [machinery, street, criminal, government]    9.77   \n",
       "2018-01-01  [army, military, air, army, army, army, warfar...    9.77   \n",
       "\n",
       "            num_words  risk_score  \n",
       "pubdate                            \n",
       "2018-01-01          5  223.670163  \n",
       "2018-01-01          3         NaN  \n",
       "2018-01-01         11         NaN  \n",
       "2018-01-01          4   65.228758  \n",
       "2018-01-01         13  268.806432  "
      ]
     },
     "execution_count": 25,
     "metadata": {},
     "output_type": "execute_result"
    }
   ],
   "source": [
    "df_all_pkfile = '../df_all.parquet'\n",
    "df_all = pd.read_parquet(df_all_pkfile)\n",
    "df_all.head()"
   ]
  },
  {
   "cell_type": "code",
   "execution_count": 34,
   "metadata": {},
   "outputs": [
    {
     "data": {
      "text/plain": [
       "<Axes: xlabel='pubdate'>"
      ]
     },
     "execution_count": 34,
     "metadata": {},
     "output_type": "execute_result"
    },
    {
     "data": {
      "image/png": "[encoded data removed]",
      "text/plain": [
       "<Figure size 640x480 with 1 Axes>"
      ]
     },
     "metadata": {},
     "output_type": "display_data"
    }
   ],
   "source": [
    "ts_vix = df_all.VIXCLS.drop_duplicates()\n",
    "ts_vix.plot(style='.')"
   ]
  },
  {
   "cell_type": "code",
   "execution_count": 37,
   "metadata": {},
   "outputs": [
    {
     "data": {
      "text/plain": [
       "pubdate\n",
       "2018-02-01    13.47\n",
       "2018-02-02    17.31\n",
       "2018-02-03    37.32\n",
       "2018-02-06    29.98\n",
       "2018-02-07    27.73\n",
       "              ...  \n",
       "2018-05-23    12.58\n",
       "2018-05-24    12.53\n",
       "2018-05-26    17.02\n",
       "2018-05-30    14.94\n",
       "2018-05-31    15.43\n",
       "Freq: D, Name: VIXCLS, Length: 79, dtype: float64"
      ]
     },
     "execution_count": 37,
     "metadata": {},
     "output_type": "execute_result"
    }
   ],
   "source": [
    "ts_vix.loc['2018-02':]"
   ]
  },
  {
   "cell_type": "code",
   "execution_count": 40,
   "metadata": {},
   "outputs": [],
   "source": [
    "dic_all_thread = 'D:\\data\\kaggle_news\\processed\\dic_all_thread.pkl'\n",
    "dic_all_thread = pickle.load(open(dic_all_thread, 'rb'))"
   ]
  },
  {
   "cell_type": "code",
   "execution_count": 46,
   "metadata": {},
   "outputs": [
    {
     "data": {
      "text/plain": [
       "{'site_full': 'www.cnbc.com',\n",
       " 'main_image': 'https://fm.cnbc.com/applications/cnbc.com/resources/img/editorial/2016/11/14/104106739-GettyImages-171532118.1910x1000.jpg',\n",
       " 'site_section': 'http://www.cnbc.com/id/19746125/device/rss/rss.xml',\n",
       " 'section_title': 'Top News and Analysis (pro)',\n",
       " 'url': 'https://www.cnbc.com/2018/01/03/emerging-markets-are-set-for-an-even-bigger-rally-in-2018-says-one-technician.html',\n",
       " 'country': 'US',\n",
       " 'domain_rank': 767,\n",
       " 'title': 'Emerging markets are set for an even bigger rally in 2018, says one technician',\n",
       " 'performance_score': 0,\n",
       " 'site': 'cnbc.com',\n",
       " 'participants_count': 0,\n",
       " 'title_full': '',\n",
       " 'spam_score': 0.0,\n",
       " 'site_type': 'blogs',\n",
       " 'published': '2018-01-03T15:00:00.000+02:00',\n",
       " 'replies_count': 0,\n",
       " 'uuid': 'f86b78623d7a4412c76c1d80ed091184e2c29969'}"
      ]
     },
     "execution_count": 46,
     "metadata": {},
     "output_type": "execute_result"
    }
   ],
   "source": [
    "dic_all_thread[next(iter(dic_all_thread))]"
   ]
  },
  {
   "cell_type": "code",
   "execution_count": 63,
   "metadata": {},
   "outputs": [],
   "source": [
    "ts_title = pd.Series({x['published']: x['title'] for _, x in dic_all_thread.items()})\n",
    "ts_title.index = pd.to_datetime(ts_title.index, utc=True)\n",
    "ts_title = ts_title.sort_index()"
   ]
  },
  {
   "cell_type": "code",
   "execution_count": 59,
   "metadata": {},
   "outputs": [
    {
     "data": {
      "text/plain": [
       "Timestamp('2018-02-02 00:00:00')"
      ]
     },
     "execution_count": 59,
     "metadata": {},
     "output_type": "execute_result"
    }
   ],
   "source": [
    "pd.to_datetime('2018-02-02')"
   ]
  },
  {
   "cell_type": "code",
   "execution_count": 64,
   "metadata": {},
   "outputs": [
    {
     "data": {
      "text/plain": [
       "2018-02-02 00:00:00+00:00    Estee Lauder Raises Its Sales Forecast as Mill...\n",
       "2018-02-02 00:01:00+00:00    Elon Musk sells $10 million in flamethrowers i...\n",
       "2018-02-02 00:02:00+00:00    Engex, Inc. Declares Special Dividend on Commo...\n",
       "2018-02-02 00:03:00+00:00    Bitcoin near bottom, will rally to $20,000 thi...\n",
       "2018-02-02 00:04:00+00:00    Abbas to address U.N. Security Council on Feb....\n",
       "                                                   ...                        \n",
       "2018-02-04 23:41:00+00:00    No players kneel during Super Bowl national an...\n",
       "2018-02-04 23:50:00+00:00    Box Office: 'Jumanji' Regains Top Spot for Mod...\n",
       "2018-02-04 23:56:00+00:00    German parties to tackle labor, healthcare in ...\n",
       "2018-02-04 23:58:00+00:00    German parties to tackle labour, healthcare in...\n",
       "2018-02-05 00:00:00+00:00    50 percent of adults have not checked their cr...\n",
       "Length: 1713, dtype: object"
      ]
     },
     "execution_count": 64,
     "metadata": {},
     "output_type": "execute_result"
    }
   ],
   "source": [
    "ts_title.loc[pd.to_datetime('2018-02-02', utc=True):pd.to_datetime('2018-02-05', utc=True)]"
   ]
  },
  {
   "cell_type": "code",
   "execution_count": 67,
   "metadata": {},
   "outputs": [],
   "source": [
    "ts_title.to_csv('ts_title.csv')"
   ]
  },
  {
   "cell_type": "code",
   "execution_count": null,
   "metadata": {},
   "outputs": [],
   "source": []
  }
 ],
 "metadata": {
  "kernelspec": {
   "display_name": "cds",
   "language": "python",
   "name": "python3"
  },
  "language_info": {
   "codemirror_mode": {
    "name": "ipython",
    "version": 3
   },
   "file_extension": ".py",
   "mimetype": "text/x-python",
   "name": "python",
   "nbconvert_exporter": "python",
   "pygments_lexer": "ipython3",
   "version": "3.9.13"
  },
  "orig_nbformat": 4
 },
 "nbformat": 4,
 "nbformat_minor": 2
}
