{
 "cells": [
  {
   "cell_type": "code",
   "execution_count": 1,
   "metadata": {},
   "outputs": [],
   "source": [
    "import os\n",
    "import re\n",
    "\n",
    "import json\n",
    "import glob\n",
    "import time\n",
    "import pandas as pd\n",
    "from collections import Counter\n",
    "from tqdm import tqdm\n",
    "from zipfile import ZipFile"
   ]
  },
  {
   "cell_type": "code",
   "execution_count": 2,
   "metadata": {},
   "outputs": [],
   "source": [
    "zipfile_news = os.path.join(os.path.expanduser('~'), 'Downloads', 'archive.zip')\n",
    "decompress_dir = os.path.join(os.path.expanduser('~'), 'Downloads', 'news')"
   ]
  },
  {
   "cell_type": "code",
   "execution_count": 3,
   "metadata": {},
   "outputs": [
    {
     "name": "stdout",
     "output_type": "stream",
     "text": [
      "Folder already exists. skip decompressing\n"
     ]
    }
   ],
   "source": [
    "# extract zipfile to 'news' folder in Download folder\n",
    "with ZipFile(zipfile_news, 'r') as zipObj:\n",
    "    if os.path.exists(decompress_dir):\n",
    "        print('Folder already exists. skip decompressing')\n",
    "    else:\n",
    "        zipObj.extractall(decompress_dir)"
   ]
  },
  {
   "cell_type": "code",
   "execution_count": 4,
   "metadata": {},
   "outputs": [],
   "source": [
    "lst_newsjson_dir = glob.glob(r'C:\\Users\\byeun\\Downloads\\news\\*')"
   ]
  },
  {
   "cell_type": "code",
   "execution_count": 5,
   "metadata": {},
   "outputs": [],
   "source": [
    "def get_words(text):\n",
    "    return re.compile('\\w+').findall(text)"
   ]
  },
  {
   "cell_type": "code",
   "execution_count": 16,
   "metadata": {},
   "outputs": [
    {
     "name": "stderr",
     "output_type": "stream",
     "text": [
      " 17%|█▋        | 10000/57802 [00:30<02:27, 324.73it/s]\n"
     ]
    }
   ],
   "source": [
    "for newsjson_dir in lst_newsjson_dir:\n",
    "    lst_jsonfile = glob.glob(newsjson_dir + r'\\*.json')\n",
    "\n",
    "    dic_all_news = {}\n",
    "    dic_all_thread = {}\n",
    "    dic_all_social = {}\n",
    "    dic_all_entity = {}\n",
    "    dic_all_news_text = {}\n",
    "    for i, jsonfile in enumerate(tqdm(lst_jsonfile)):\n",
    "        \n",
    "        dic_news = json.load(open(jsonfile, 'rt', encoding='utf-8'))\n",
    "        uuid = dic_news.pop('uuid')\n",
    "        dic_all_news[uuid] = dic_news\n",
    "        \n",
    "        dic_thread = dic_news.pop('thread')\n",
    "      \n",
    "        news_text = dic_news.pop('text')\n",
    "        news_word = get_words(news_text)\n",
    "        news_word_cnt = Counter(news_word).total()\n",
    "        \n",
    "        dic_news['word_cnt'] = news_word_cnt\n",
    "\n",
    "        dic_all_social[uuid] = dic_thread.pop('social')\n",
    "        dic_all_thread[uuid] = dic_thread\n",
    "        dic_all_entity[uuid] = dic_news.pop('entities')\n",
    "\n",
    "        dic_all_news[uuid] = dic_news\n",
    "\n",
    "        dic_all_news_text[uuid] = {'text': news_text} \n",
    "\n",
    "        if i == 10000:\n",
    "            break\n",
    "\n",
    "    break"
   ]
  },
  {
   "cell_type": "markdown",
   "metadata": {},
   "source": [
    "### News publishment summary"
   ]
  },
  {
   "cell_type": "code",
   "execution_count": 93,
   "metadata": {},
   "outputs": [],
   "source": [
    "dic_uuid_date = {}\n",
    "lst_publish_date = []\n",
    "for uuid, dic_news in dic_all_news.items():\n",
    "    dic_uuid_date[uuid] = pd.to_datetime(dic_news['published']).strftime('%Y-%m-%d')\n",
    "    lst_publish_date.append([dic_news['published'], dic_news['language']])"
   ]
  },
  {
   "cell_type": "code",
   "execution_count": 88,
   "metadata": {},
   "outputs": [],
   "source": [
    "ts_publish_date = pd.DataFrame(lst_publish_date)\n",
    "ts_publish_date.columns = ['pubdate','language']\n",
    "ts_publish_date['count'] = 1\n",
    "\n",
    "ts_publish_date.set_index(pd.PeriodIndex(ts_publish_date['pubdate'],freq='D'), inplace=True)\n",
    "\n",
    "# drop pubdate column\n",
    "ts_publish_date.drop('pubdate', axis=1, inplace=True)"
   ]
  },
  {
   "cell_type": "markdown",
   "metadata": {},
   "source": [
    "#### Number of news by month"
   ]
  },
  {
   "cell_type": "code",
   "execution_count": 71,
   "metadata": {},
   "outputs": [
    {
     "data": {
      "text/html": [
       "<div>\n",
       "<style scoped>\n",
       "    .dataframe tbody tr th:only-of-type {\n",
       "        vertical-align: middle;\n",
       "    }\n",
       "\n",
       "    .dataframe tbody tr th {\n",
       "        vertical-align: top;\n",
       "    }\n",
       "\n",
       "    .dataframe thead th {\n",
       "        text-align: right;\n",
       "    }\n",
       "</style>\n",
       "<table border=\"1\" class=\"dataframe\">\n",
       "  <thead>\n",
       "    <tr style=\"text-align: right;\">\n",
       "      <th></th>\n",
       "      <th>language</th>\n",
       "      <th>count</th>\n",
       "    </tr>\n",
       "    <tr>\n",
       "      <th>pubdate</th>\n",
       "      <th></th>\n",
       "      <th></th>\n",
       "    </tr>\n",
       "  </thead>\n",
       "  <tbody>\n",
       "    <tr>\n",
       "      <th>2017-12</th>\n",
       "      <td>65</td>\n",
       "      <td>65</td>\n",
       "    </tr>\n",
       "    <tr>\n",
       "      <th>2018-01</th>\n",
       "      <td>9936</td>\n",
       "      <td>9936</td>\n",
       "    </tr>\n",
       "  </tbody>\n",
       "</table>\n",
       "</div>"
      ],
      "text/plain": [
       "         language  count\n",
       "pubdate                 \n",
       "2017-12        65     65\n",
       "2018-01      9936   9936"
      ]
     },
     "execution_count": 71,
     "metadata": {},
     "output_type": "execute_result"
    }
   ],
   "source": [
    "# convert timestamp to date format\n",
    "ts_publish_date.resample('M').count()"
   ]
  },
  {
   "cell_type": "markdown",
   "metadata": {},
   "source": [
    "#### Number of news by language"
   ]
  },
  {
   "cell_type": "code",
   "execution_count": 72,
   "metadata": {},
   "outputs": [
    {
     "data": {
      "text/plain": [
       "english    10001\n",
       "Name: language, dtype: int64"
      ]
     },
     "execution_count": 72,
     "metadata": {},
     "output_type": "execute_result"
    }
   ],
   "source": [
    "ts_publish_date['language'].value_counts()"
   ]
  },
  {
   "cell_type": "markdown",
   "metadata": {},
   "source": [
    "### Social media summary"
   ]
  },
  {
   "cell_type": "code",
   "execution_count": 94,
   "metadata": {},
   "outputs": [],
   "source": [
    "dic_social_cnt = {}\n",
    "for uuid, dic_social in dic_all_social.items():\n",
    "    pubdate = dic_uuid_date[uuid]\n",
    "    for sns, dic_event in dic_social.items():\n",
    "        for event_type, event_cnt in dic_event.items():\n",
    "\n",
    "            if not dic_social_cnt.get(pubdate):\n",
    "                dic_social_cnt[pubdate] = {}\n",
    "\n",
    "            if not dic_social_cnt[pubdate].get(sns):\n",
    "                dic_social_cnt[pubdate][sns] = {}\n",
    "            \n",
    "            if not dic_social_cnt[pubdate][sns].get(event_type):\n",
    "                dic_social_cnt[pubdate][sns][event_type] = 0\n",
    "            \n",
    "            dic_social_cnt[pubdate][sns][event_type] += event_cnt"
   ]
  },
  {
   "cell_type": "code",
   "execution_count": 159,
   "metadata": {},
   "outputs": [],
   "source": [
    "lst_df_social = []\n",
    "for pubdate, x in dic_social_cnt.items():\n",
    "    df = pd.DataFrame(x)\n",
    "    df['pubdate'] = pubdate\n",
    "    lst_df_social.append(df)\n",
    "\n",
    "df_social = pd.concat(lst_df_social)\n",
    "df_social.index.name = 'event_type'\n",
    "df_social.reset_index(inplace=True)\n",
    "df_social.set_index('pubdate', inplace=True, drop=True)\n",
    "df_social.index = pd.PeriodIndex(df_social.index, freq='D')\n"
   ]
  },
  {
   "cell_type": "code",
   "execution_count": 149,
   "metadata": {},
   "outputs": [
    {
     "data": {
      "text/html": [
       "<div>\n",
       "<style scoped>\n",
       "    .dataframe tbody tr th:only-of-type {\n",
       "        vertical-align: middle;\n",
       "    }\n",
       "\n",
       "    .dataframe tbody tr th {\n",
       "        vertical-align: top;\n",
       "    }\n",
       "\n",
       "    .dataframe thead th {\n",
       "        text-align: right;\n",
       "    }\n",
       "</style>\n",
       "<table border=\"1\" class=\"dataframe\">\n",
       "  <thead>\n",
       "    <tr style=\"text-align: right;\">\n",
       "      <th></th>\n",
       "      <th>event_type</th>\n",
       "      <th>gplus</th>\n",
       "      <th>pinterest</th>\n",
       "      <th>vk</th>\n",
       "      <th>linkedin</th>\n",
       "      <th>facebook</th>\n",
       "      <th>stumbledupon</th>\n",
       "    </tr>\n",
       "    <tr>\n",
       "      <th>pubdate</th>\n",
       "      <th></th>\n",
       "      <th></th>\n",
       "      <th></th>\n",
       "      <th></th>\n",
       "      <th></th>\n",
       "      <th></th>\n",
       "      <th></th>\n",
       "    </tr>\n",
       "  </thead>\n",
       "  <tbody>\n",
       "    <tr>\n",
       "      <th>2017-12-07</th>\n",
       "      <td>comments</td>\n",
       "      <td>NaN</td>\n",
       "      <td>NaN</td>\n",
       "      <td>NaN</td>\n",
       "      <td>NaN</td>\n",
       "      <td>0</td>\n",
       "      <td>NaN</td>\n",
       "    </tr>\n",
       "    <tr>\n",
       "      <th>2017-12-07</th>\n",
       "      <td>likes</td>\n",
       "      <td>NaN</td>\n",
       "      <td>NaN</td>\n",
       "      <td>NaN</td>\n",
       "      <td>NaN</td>\n",
       "      <td>0</td>\n",
       "      <td>NaN</td>\n",
       "    </tr>\n",
       "    <tr>\n",
       "      <th>2017-12-07</th>\n",
       "      <td>shares</td>\n",
       "      <td>0.0</td>\n",
       "      <td>0.0</td>\n",
       "      <td>0.0</td>\n",
       "      <td>0.0</td>\n",
       "      <td>0</td>\n",
       "      <td>0.0</td>\n",
       "    </tr>\n",
       "    <tr>\n",
       "      <th>2017-12-08</th>\n",
       "      <td>shares</td>\n",
       "      <td>0.0</td>\n",
       "      <td>0.0</td>\n",
       "      <td>0.0</td>\n",
       "      <td>0.0</td>\n",
       "      <td>0</td>\n",
       "      <td>0.0</td>\n",
       "    </tr>\n",
       "    <tr>\n",
       "      <th>2017-12-08</th>\n",
       "      <td>likes</td>\n",
       "      <td>NaN</td>\n",
       "      <td>NaN</td>\n",
       "      <td>NaN</td>\n",
       "      <td>NaN</td>\n",
       "      <td>0</td>\n",
       "      <td>NaN</td>\n",
       "    </tr>\n",
       "    <tr>\n",
       "      <th>2017-12-08</th>\n",
       "      <td>comments</td>\n",
       "      <td>NaN</td>\n",
       "      <td>NaN</td>\n",
       "      <td>NaN</td>\n",
       "      <td>NaN</td>\n",
       "      <td>0</td>\n",
       "      <td>NaN</td>\n",
       "    </tr>\n",
       "    <tr>\n",
       "      <th>2017-12-14</th>\n",
       "      <td>shares</td>\n",
       "      <td>0.0</td>\n",
       "      <td>0.0</td>\n",
       "      <td>0.0</td>\n",
       "      <td>0.0</td>\n",
       "      <td>0</td>\n",
       "      <td>0.0</td>\n",
       "    </tr>\n",
       "    <tr>\n",
       "      <th>2017-12-14</th>\n",
       "      <td>likes</td>\n",
       "      <td>NaN</td>\n",
       "      <td>NaN</td>\n",
       "      <td>NaN</td>\n",
       "      <td>NaN</td>\n",
       "      <td>0</td>\n",
       "      <td>NaN</td>\n",
       "    </tr>\n",
       "    <tr>\n",
       "      <th>2017-12-14</th>\n",
       "      <td>comments</td>\n",
       "      <td>NaN</td>\n",
       "      <td>NaN</td>\n",
       "      <td>NaN</td>\n",
       "      <td>NaN</td>\n",
       "      <td>0</td>\n",
       "      <td>NaN</td>\n",
       "    </tr>\n",
       "    <tr>\n",
       "      <th>2017-12-15</th>\n",
       "      <td>shares</td>\n",
       "      <td>0.0</td>\n",
       "      <td>0.0</td>\n",
       "      <td>0.0</td>\n",
       "      <td>0.0</td>\n",
       "      <td>0</td>\n",
       "      <td>0.0</td>\n",
       "    </tr>\n",
       "  </tbody>\n",
       "</table>\n",
       "</div>"
      ],
      "text/plain": [
       "           event_type  gplus  pinterest   vk  linkedin  facebook  stumbledupon\n",
       "pubdate                                                                       \n",
       "2017-12-07   comments    NaN        NaN  NaN       NaN         0           NaN\n",
       "2017-12-07      likes    NaN        NaN  NaN       NaN         0           NaN\n",
       "2017-12-07     shares    0.0        0.0  0.0       0.0         0           0.0\n",
       "2017-12-08     shares    0.0        0.0  0.0       0.0         0           0.0\n",
       "2017-12-08      likes    NaN        NaN  NaN       NaN         0           NaN\n",
       "2017-12-08   comments    NaN        NaN  NaN       NaN         0           NaN\n",
       "2017-12-14     shares    0.0        0.0  0.0       0.0         0           0.0\n",
       "2017-12-14      likes    NaN        NaN  NaN       NaN         0           NaN\n",
       "2017-12-14   comments    NaN        NaN  NaN       NaN         0           NaN\n",
       "2017-12-15     shares    0.0        0.0  0.0       0.0         0           0.0"
      ]
     },
     "execution_count": 149,
     "metadata": {},
     "output_type": "execute_result"
    }
   ],
   "source": [
    "df_social.sort_index().head(10)"
   ]
  },
  {
   "cell_type": "markdown",
   "metadata": {},
   "source": [
    "#### Number of shares by date"
   ]
  },
  {
   "cell_type": "code",
   "execution_count": 163,
   "metadata": {},
   "outputs": [
    {
     "data": {
      "text/html": [
       "<div>\n",
       "<style scoped>\n",
       "    .dataframe tbody tr th:only-of-type {\n",
       "        vertical-align: middle;\n",
       "    }\n",
       "\n",
       "    .dataframe tbody tr th {\n",
       "        vertical-align: top;\n",
       "    }\n",
       "\n",
       "    .dataframe thead th {\n",
       "        text-align: right;\n",
       "    }\n",
       "</style>\n",
       "<table border=\"1\" class=\"dataframe\">\n",
       "  <thead>\n",
       "    <tr style=\"text-align: right;\">\n",
       "      <th></th>\n",
       "      <th>gplus</th>\n",
       "      <th>pinterest</th>\n",
       "      <th>vk</th>\n",
       "      <th>linkedin</th>\n",
       "      <th>facebook</th>\n",
       "      <th>stumbledupon</th>\n",
       "    </tr>\n",
       "    <tr>\n",
       "      <th>pubdate</th>\n",
       "      <th></th>\n",
       "      <th></th>\n",
       "      <th></th>\n",
       "      <th></th>\n",
       "      <th></th>\n",
       "      <th></th>\n",
       "    </tr>\n",
       "  </thead>\n",
       "  <tbody>\n",
       "    <tr>\n",
       "      <th>2017-12-04/2017-12-10</th>\n",
       "      <td>0.0</td>\n",
       "      <td>0.0</td>\n",
       "      <td>0.0</td>\n",
       "      <td>0.0</td>\n",
       "      <td>0</td>\n",
       "      <td>0.0</td>\n",
       "    </tr>\n",
       "    <tr>\n",
       "      <th>2017-12-11/2017-12-17</th>\n",
       "      <td>0.0</td>\n",
       "      <td>0.0</td>\n",
       "      <td>0.0</td>\n",
       "      <td>0.0</td>\n",
       "      <td>0</td>\n",
       "      <td>0.0</td>\n",
       "    </tr>\n",
       "    <tr>\n",
       "      <th>2017-12-18/2017-12-24</th>\n",
       "      <td>0.0</td>\n",
       "      <td>0.0</td>\n",
       "      <td>0.0</td>\n",
       "      <td>0.0</td>\n",
       "      <td>0</td>\n",
       "      <td>0.0</td>\n",
       "    </tr>\n",
       "    <tr>\n",
       "      <th>2017-12-25/2017-12-31</th>\n",
       "      <td>0.0</td>\n",
       "      <td>0.0</td>\n",
       "      <td>0.0</td>\n",
       "      <td>0.0</td>\n",
       "      <td>0</td>\n",
       "      <td>0.0</td>\n",
       "    </tr>\n",
       "    <tr>\n",
       "      <th>2018-01-01/2018-01-07</th>\n",
       "      <td>0.0</td>\n",
       "      <td>53.0</td>\n",
       "      <td>7.0</td>\n",
       "      <td>10759.0</td>\n",
       "      <td>89138</td>\n",
       "      <td>2.0</td>\n",
       "    </tr>\n",
       "    <tr>\n",
       "      <th>2018-01-08/2018-01-14</th>\n",
       "      <td>0.0</td>\n",
       "      <td>7.0</td>\n",
       "      <td>3.0</td>\n",
       "      <td>2440.0</td>\n",
       "      <td>7464</td>\n",
       "      <td>0.0</td>\n",
       "    </tr>\n",
       "    <tr>\n",
       "      <th>2018-01-15/2018-01-21</th>\n",
       "      <td>0.0</td>\n",
       "      <td>19.0</td>\n",
       "      <td>2.0</td>\n",
       "      <td>822.0</td>\n",
       "      <td>9923</td>\n",
       "      <td>47.0</td>\n",
       "    </tr>\n",
       "    <tr>\n",
       "      <th>2018-01-22/2018-01-28</th>\n",
       "      <td>0.0</td>\n",
       "      <td>15.0</td>\n",
       "      <td>5.0</td>\n",
       "      <td>2009.0</td>\n",
       "      <td>13432</td>\n",
       "      <td>1.0</td>\n",
       "    </tr>\n",
       "    <tr>\n",
       "      <th>2018-01-29/2018-02-04</th>\n",
       "      <td>0.0</td>\n",
       "      <td>7.0</td>\n",
       "      <td>0.0</td>\n",
       "      <td>965.0</td>\n",
       "      <td>3770</td>\n",
       "      <td>0.0</td>\n",
       "    </tr>\n",
       "  </tbody>\n",
       "</table>\n",
       "</div>"
      ],
      "text/plain": [
       "                       gplus  pinterest   vk  linkedin  facebook  stumbledupon\n",
       "pubdate                                                                       \n",
       "2017-12-04/2017-12-10    0.0        0.0  0.0       0.0         0           0.0\n",
       "2017-12-11/2017-12-17    0.0        0.0  0.0       0.0         0           0.0\n",
       "2017-12-18/2017-12-24    0.0        0.0  0.0       0.0         0           0.0\n",
       "2017-12-25/2017-12-31    0.0        0.0  0.0       0.0         0           0.0\n",
       "2018-01-01/2018-01-07    0.0       53.0  7.0   10759.0     89138           2.0\n",
       "2018-01-08/2018-01-14    0.0        7.0  3.0    2440.0      7464           0.0\n",
       "2018-01-15/2018-01-21    0.0       19.0  2.0     822.0      9923          47.0\n",
       "2018-01-22/2018-01-28    0.0       15.0  5.0    2009.0     13432           1.0\n",
       "2018-01-29/2018-02-04    0.0        7.0  0.0     965.0      3770           0.0"
      ]
     },
     "execution_count": 163,
     "metadata": {},
     "output_type": "execute_result"
    }
   ],
   "source": [
    "df_social[df_social.event_type == 'shares'].resample('W').sum(numeric_only=True)"
   ]
  },
  {
   "cell_type": "markdown",
   "metadata": {},
   "source": [
    "### Thread summary"
   ]
  },
  {
   "cell_type": "code",
   "execution_count": 167,
   "metadata": {},
   "outputs": [
    {
     "data": {
      "text/plain": [
       "site_full                                                  www.cnbc.com\n",
       "main_image            https://fm.cnbc.com/applications/cnbc.com/reso...\n",
       "site_section          http://www.cnbc.com/id/19746125/device/rss/rss...\n",
       "section_title                               Top News and Analysis (pro)\n",
       "url                   https://www.cnbc.com/2018/01/03/emerging-marke...\n",
       "country                                                              US\n",
       "domain_rank                                                       767.0\n",
       "title                 Emerging markets are set for an even bigger ra...\n",
       "performance_score                                                     0\n",
       "site                                                           cnbc.com\n",
       "participants_count                                                    0\n",
       "title_full                                                             \n",
       "spam_score                                                          0.0\n",
       "site_type                                                         blogs\n",
       "published                                 2018-01-03T15:00:00.000+02:00\n",
       "replies_count                                                         0\n",
       "uuid                           f86b78623d7a4412c76c1d80ed091184e2c29969\n",
       "Name: 0, dtype: object"
      ]
     },
     "execution_count": 167,
     "metadata": {},
     "output_type": "execute_result"
    }
   ],
   "source": [
    "df_thread = pd.DataFrame(dic_all_thread.values())\n",
    "df_thread.iloc[0]    "
   ]
  },
  {
   "cell_type": "code",
   "execution_count": 168,
   "metadata": {},
   "outputs": [
    {
     "data": {
      "text/plain": [
       "0     9786\n",
       "1       90\n",
       "2       29\n",
       "3       21\n",
       "10      20\n",
       "5       17\n",
       "4       17\n",
       "6        7\n",
       "7        5\n",
       "9        5\n",
       "8        4\n",
       "Name: performance_score, dtype: int64"
      ]
     },
     "execution_count": 168,
     "metadata": {},
     "output_type": "execute_result"
    }
   ],
   "source": [
    "df_thread.performance_score.value_counts()"
   ]
  },
  {
   "cell_type": "code",
   "execution_count": 169,
   "metadata": {},
   "outputs": [
    {
     "data": {
      "text/plain": [
       "0.000    8068\n",
       "0.001     166\n",
       "0.002      79\n",
       "1.000      59\n",
       "0.003      53\n",
       "         ... \n",
       "0.803       1\n",
       "0.818       1\n",
       "0.202       1\n",
       "0.428       1\n",
       "0.889       1\n",
       "Name: spam_score, Length: 591, dtype: int64"
      ]
     },
     "execution_count": 169,
     "metadata": {},
     "output_type": "execute_result"
    }
   ],
   "source": [
    "df_thread.spam_score.value_counts()"
   ]
  },
  {
   "cell_type": "code",
   "execution_count": 170,
   "metadata": {},
   "outputs": [
    {
     "data": {
      "text/plain": [
       "news     7913\n",
       "blogs    2088\n",
       "Name: site_type, dtype: int64"
      ]
     },
     "execution_count": 170,
     "metadata": {},
     "output_type": "execute_result"
    }
   ],
   "source": [
    "df_thread.site_type.value_counts()"
   ]
  },
  {
   "cell_type": "code",
   "execution_count": 171,
   "metadata": {},
   "outputs": [
    {
     "data": {
      "text/plain": [
       "reuters.com    4488\n",
       "cnbc.com       4464\n",
       "wsj.com         683\n",
       "fortune.com     366\n",
       "Name: site, dtype: int64"
      ]
     },
     "execution_count": 171,
     "metadata": {},
     "output_type": "execute_result"
    }
   ],
   "source": [
    "df_thread.site.value_counts()"
   ]
  },
  {
   "cell_type": "code",
   "execution_count": 172,
   "metadata": {},
   "outputs": [
    {
     "data": {
      "text/plain": [
       "US    10001\n",
       "Name: country, dtype: int64"
      ]
     },
     "execution_count": 172,
     "metadata": {},
     "output_type": "execute_result"
    }
   ],
   "source": [
    "df_thread.country.value_counts()"
   ]
  },
  {
   "cell_type": "markdown",
   "metadata": {},
   "source": [
    "### Entity summary"
   ]
  },
  {
   "cell_type": "code",
   "execution_count": 174,
   "metadata": {},
   "outputs": [],
   "source": [
    "foo = [x.keys() for x in dic_all_entity.values()]"
   ]
  },
  {
   "cell_type": "code",
   "execution_count": 178,
   "metadata": {},
   "outputs": [
    {
     "data": {
      "text/plain": [
       "{'persons': [{'name': 'fred katayama', 'sentiment': 'none'},\n",
       "  {'name': 'macy', 'sentiment': 'none'}],\n",
       " 'locations': [],\n",
       " 'organizations': [{'name': 'j.c. penney', 'sentiment': 'negative'},\n",
       "  {'name': 'sears', 'sentiment': 'negative'},\n",
       "  {'name': 'reuters news agency | brand attribution guidelines | careers  reuters',\n",
       "   'sentiment': 'none'},\n",
       "  {'name': 'reuters.com', 'sentiment': 'none'},\n",
       "  {'name': 'thomson reuters', 'sentiment': 'none'},\n",
       "  {'name': 'reuters tv', 'sentiment': 'none'},\n",
       "  {'name': 'reuters', 'sentiment': 'none'}]}"
      ]
     },
     "execution_count": 178,
     "metadata": {},
     "output_type": "execute_result"
    }
   ],
   "source": [
    "dic_all_entity[uuid]"
   ]
  }
 ],
 "metadata": {
  "kernelspec": {
   "display_name": "mhbc",
   "language": "python",
   "name": "python3"
  },
  "language_info": {
   "codemirror_mode": {
    "name": "ipython",
    "version": 3
   },
   "file_extension": ".py",
   "mimetype": "text/x-python",
   "name": "python",
   "nbconvert_exporter": "python",
   "pygments_lexer": "ipython3",
   "version": "3.11.2"
  }
 },
 "nbformat": 4,
 "nbformat_minor": 2
}
