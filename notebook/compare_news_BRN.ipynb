{
 "cells": [
  {
   "cell_type": "code",
   "execution_count": 113,
   "metadata": {},
   "outputs": [],
   "source": [
    "import os\n",
    "import re\n",
    "import pickle\n",
    "import spacy\n",
    "import datetime\n",
    "import pandas as pd\n",
    "\n",
    "from tqdm import tqdm"
   ]
  },
  {
   "cell_type": "code",
   "execution_count": 2,
   "metadata": {},
   "outputs": [],
   "source": [
    "processed_dir = r'D:\\data\\kaggle_news\\processed'\n",
    "news_text_pklfile = 'dic_all_news_text.pkl'"
   ]
  },
  {
   "cell_type": "code",
   "execution_count": 123,
   "metadata": {},
   "outputs": [],
   "source": [
    "df_basel_risk_norms = pd.read_csv('risk_mean_basel_risk_norms.csv')\n",
    "lst_BRN_lower = [x.strip().lower() for x in df_basel_risk_norms.source]"
   ]
  },
  {
   "cell_type": "code",
   "execution_count": 124,
   "metadata": {},
   "outputs": [
    {
     "data": {
      "text/html": [
       "<div>\n",
       "<style scoped>\n",
       "    .dataframe tbody tr th:only-of-type {\n",
       "        vertical-align: middle;\n",
       "    }\n",
       "\n",
       "    .dataframe tbody tr th {\n",
       "        vertical-align: top;\n",
       "    }\n",
       "\n",
       "    .dataframe thead th {\n",
       "        text-align: right;\n",
       "    }\n",
       "</style>\n",
       "<table border=\"1\" class=\"dataframe\">\n",
       "  <thead>\n",
       "    <tr style=\"text-align: right;\">\n",
       "      <th></th>\n",
       "      <th>source</th>\n",
       "      <th>rating</th>\n",
       "    </tr>\n",
       "  </thead>\n",
       "  <tbody>\n",
       "    <tr>\n",
       "      <th>america</th>\n",
       "      <td>America</td>\n",
       "      <td>8.921053</td>\n",
       "    </tr>\n",
       "    <tr>\n",
       "      <th>antarctic</th>\n",
       "      <td>Antarctic</td>\n",
       "      <td>38.099338</td>\n",
       "    </tr>\n",
       "    <tr>\n",
       "      <th>australia</th>\n",
       "      <td>Australia</td>\n",
       "      <td>-25.805195</td>\n",
       "    </tr>\n",
       "    <tr>\n",
       "      <th>boston</th>\n",
       "      <td>Boston</td>\n",
       "      <td>-14.824324</td>\n",
       "    </tr>\n",
       "    <tr>\n",
       "      <th>california</th>\n",
       "      <td>California</td>\n",
       "      <td>-21.959184</td>\n",
       "    </tr>\n",
       "  </tbody>\n",
       "</table>\n",
       "</div>"
      ],
      "text/plain": [
       "                source     rating\n",
       "america        America   8.921053\n",
       "antarctic    Antarctic  38.099338\n",
       "australia    Australia -25.805195\n",
       "boston          Boston -14.824324\n",
       "california  California -21.959184"
      ]
     },
     "execution_count": 124,
     "metadata": {},
     "output_type": "execute_result"
    }
   ],
   "source": [
    "df_basel_risk_norms.index =lst_BRN_lower\n",
    "df_basel_risk_norms.head()"
   ]
  },
  {
   "cell_type": "code",
   "execution_count": 125,
   "metadata": {},
   "outputs": [
    {
     "data": {
      "text/plain": [
       "8.921052631578947"
      ]
     },
     "execution_count": 125,
     "metadata": {},
     "output_type": "execute_result"
    }
   ],
   "source": [
    "df_basel_risk_norms.loc['america','rating']"
   ]
  },
  {
   "cell_type": "code",
   "execution_count": 3,
   "metadata": {},
   "outputs": [],
   "source": [
    "dic_news_text = pickle.load(open(os.path.join(processed_dir, news_text_pklfile), 'rb'))"
   ]
  },
  {
   "cell_type": "code",
   "execution_count": 8,
   "metadata": {},
   "outputs": [],
   "source": [
    "nlp = spacy.load('en_core_web_lg')"
   ]
  },
  {
   "cell_type": "markdown",
   "metadata": {},
   "source": [
    "<b> (Caution) Below for loop takes 5 hours. Use dic_rick_word_in_news.pkl file! </b>"
   ]
  },
  {
   "cell_type": "code",
   "execution_count": 17,
   "metadata": {},
   "outputs": [
    {
     "name": "stderr",
     "output_type": "stream",
     "text": [
      "100%|██████████| 306188/306188 [5:14:02<00:00, 16.25it/s]   \n"
     ]
    }
   ],
   "source": [
    "riskword_news_file = 'dic_risk_word_in_news.pkl'\n",
    "\n",
    "if os.path.exists(riskword_news_file):\n",
    "    print(f'Loading {riskword_news_file} ...')\n",
    "    dic_risk_word_in_news = pickle.load(open(riskword_news_file, 'rb'))\n",
    "else:\n",
    "    dic_risk_word_in_news = {}\n",
    "    for uuid, dic_text in tqdm(dic_news_text.items()):\n",
    "        news_text = dic_text['text']\n",
    "        # split text into words using re\n",
    "        doc = nlp(news_text)\n",
    "        tokens = [token for token in doc]\n",
    "        lemma_lower = [token.lemma_.lower() for token in tokens]\n",
    "        risk_words = [x for x in lemma_lower if x in lst_BRN_lower]\n",
    "        if len(risk_words) > 0:\n",
    "            dic_risk_word_in_news[uuid] = risk_words"
   ]
  },
  {
   "cell_type": "code",
   "execution_count": 18,
   "metadata": {},
   "outputs": [],
   "source": [
    "if not os.path.exists(riskword_news_file):\n",
    "    pickle.dump(dic_risk_word_in_news, open(riskword_news_file, 'wb'))"
   ]
  },
  {
   "cell_type": "code",
   "execution_count": 114,
   "metadata": {},
   "outputs": [
    {
     "data": {
      "text/plain": [
       "253887"
      ]
     },
     "execution_count": 114,
     "metadata": {},
     "output_type": "execute_result"
    }
   ],
   "source": [
    "len(dic_risk_word_in_news)"
   ]
  },
  {
   "cell_type": "code",
   "execution_count": 20,
   "metadata": {},
   "outputs": [],
   "source": [
    "news_meta_file = 'dic_all_news.pkl'\n",
    "dic_news_meta = pickle.load(open(os.path.join(processed_dir, news_meta_file), 'rb'))"
   ]
  },
  {
   "cell_type": "code",
   "execution_count": 21,
   "metadata": {},
   "outputs": [],
   "source": [
    "first_key = next(iter(dic_news_meta))"
   ]
  },
  {
   "cell_type": "code",
   "execution_count": 23,
   "metadata": {},
   "outputs": [
    {
     "data": {
      "text/plain": [
       "{'organizations': [],\n",
       " 'author': '',\n",
       " 'url': 'https://www.cnbc.com/2018/01/03/emerging-markets-are-set-for-an-even-bigger-rally-in-2018-says-one-technician.html',\n",
       " 'ord_in_thread': 0,\n",
       " 'title': 'Emerging markets are set for an even bigger rally in 2018, says one technician',\n",
       " 'locations': [],\n",
       " 'highlightText': '',\n",
       " 'language': 'english',\n",
       " 'persons': [],\n",
       " 'external_links': [],\n",
       " 'published': '2018-01-03T15:00:00.000+02:00',\n",
       " 'crawled': '2018-01-03T15:34:36.006+02:00',\n",
       " 'highlightTitle': '',\n",
       " 'word_cnt': 303}"
      ]
     },
     "execution_count": 23,
     "metadata": {},
     "output_type": "execute_result"
    }
   ],
   "source": [
    "dic_news_meta[first_key]"
   ]
  },
  {
   "cell_type": "code",
   "execution_count": 24,
   "metadata": {},
   "outputs": [],
   "source": [
    "dic_uuid_pubdate = {key: val['published'] for key, val in dic_news_meta.items()}"
   ]
  },
  {
   "cell_type": "code",
   "execution_count": 25,
   "metadata": {},
   "outputs": [
    {
     "data": {
      "text/plain": [
       "306188"
      ]
     },
     "execution_count": 25,
     "metadata": {},
     "output_type": "execute_result"
    }
   ],
   "source": [
    "len(dic_uuid_pubdate)"
   ]
  },
  {
   "cell_type": "code",
   "execution_count": 27,
   "metadata": {},
   "outputs": [],
   "source": [
    "df_pubdate = pd.Series(dic_uuid_pubdate)\n",
    "df_risk = pd.Series(dic_risk_word_in_news)\n",
    "df_all = pd.concat([df_pubdate, df_risk], axis=1)\n",
    "df_all.columns = ['pubdate', 'risk_word']\n",
    "df_all.set_index('pubdate', inplace=True, drop=True)\n",
    "df_all.index = pd.PeriodIndex(df_all.index, freq='D')\n",
    "df_all.reset_index(inplace=True)\n",
    "df_all.head(10)"
   ]
  },
  {
   "cell_type": "code",
   "execution_count": 60,
   "metadata": {},
   "outputs": [],
   "source": [
    "def get_risk_word(text):\n",
    "    if isinstance(text, list):\n",
    "        return int(len(text))\n",
    "    return text\n",
    "\n",
    "df_all['num_words'] = df_all['risk_word'].apply(lambda x: get_risk_word(x))"
   ]
  },
  {
   "cell_type": "code",
   "execution_count": 115,
   "metadata": {},
   "outputs": [
    {
     "data": {
      "text/html": [
       "<div>\n",
       "<style scoped>\n",
       "    .dataframe tbody tr th:only-of-type {\n",
       "        vertical-align: middle;\n",
       "    }\n",
       "\n",
       "    .dataframe tbody tr th {\n",
       "        vertical-align: top;\n",
       "    }\n",
       "\n",
       "    .dataframe thead th {\n",
       "        text-align: right;\n",
       "    }\n",
       "</style>\n",
       "<table border=\"1\" class=\"dataframe\">\n",
       "  <thead>\n",
       "    <tr style=\"text-align: right;\">\n",
       "      <th></th>\n",
       "      <th>pubdate</th>\n",
       "      <th>risk_word</th>\n",
       "      <th>num_words</th>\n",
       "    </tr>\n",
       "  </thead>\n",
       "  <tbody>\n",
       "    <tr>\n",
       "      <th>0</th>\n",
       "      <td>2018-01-03</td>\n",
       "      <td>[relationship, fall]</td>\n",
       "      <td>2.0</td>\n",
       "    </tr>\n",
       "    <tr>\n",
       "      <th>1</th>\n",
       "      <td>2018-01-03</td>\n",
       "      <td>[fuel]</td>\n",
       "      <td>1.0</td>\n",
       "    </tr>\n",
       "    <tr>\n",
       "      <th>2</th>\n",
       "      <td>2018-01-03</td>\n",
       "      <td>[people, people, facebook]</td>\n",
       "      <td>3.0</td>\n",
       "    </tr>\n",
       "    <tr>\n",
       "      <th>3</th>\n",
       "      <td>2018-01-02</td>\n",
       "      <td>[television, fire, orange, fire, winter, olymp...</td>\n",
       "      <td>9.0</td>\n",
       "    </tr>\n",
       "    <tr>\n",
       "      <th>4</th>\n",
       "      <td>2018-01-01</td>\n",
       "      <td>[death, death, pilot, crash, australia]</td>\n",
       "      <td>5.0</td>\n",
       "    </tr>\n",
       "  </tbody>\n",
       "</table>\n",
       "</div>"
      ],
      "text/plain": [
       "      pubdate                                          risk_word  num_words\n",
       "0  2018-01-03                               [relationship, fall]        2.0\n",
       "1  2018-01-03                                             [fuel]        1.0\n",
       "2  2018-01-03                         [people, people, facebook]        3.0\n",
       "3  2018-01-02  [television, fire, orange, fire, winter, olymp...        9.0\n",
       "4  2018-01-01            [death, death, pilot, crash, australia]        5.0"
      ]
     },
     "execution_count": 115,
     "metadata": {},
     "output_type": "execute_result"
    }
   ],
   "source": [
    "df_all.head()"
   ]
  },
  {
   "cell_type": "code",
   "execution_count": 126,
   "metadata": {},
   "outputs": [],
   "source": [
    "def get_risk_word_score(text):\n",
    "    \n",
    "    if isinstance(text, list):\n",
    "        score = sum([df_basel_risk_norms.loc[x, 'rating'] for x in text])\n",
    "        return score\n",
    "    return text\n",
    "\n",
    "df_all['risk_score'] = df_all['risk_word'].apply(lambda x: get_risk_word_score(x))\n"
   ]
  },
  {
   "cell_type": "code",
   "execution_count": 127,
   "metadata": {},
   "outputs": [
    {
     "data": {
      "text/html": [
       "<div>\n",
       "<style scoped>\n",
       "    .dataframe tbody tr th:only-of-type {\n",
       "        vertical-align: middle;\n",
       "    }\n",
       "\n",
       "    .dataframe tbody tr th {\n",
       "        vertical-align: top;\n",
       "    }\n",
       "\n",
       "    .dataframe thead th {\n",
       "        text-align: right;\n",
       "    }\n",
       "</style>\n",
       "<table border=\"1\" class=\"dataframe\">\n",
       "  <thead>\n",
       "    <tr style=\"text-align: right;\">\n",
       "      <th></th>\n",
       "      <th>pubdate</th>\n",
       "      <th>risk_word</th>\n",
       "      <th>num_words</th>\n",
       "      <th>risk_score</th>\n",
       "    </tr>\n",
       "  </thead>\n",
       "  <tbody>\n",
       "    <tr>\n",
       "      <th>0</th>\n",
       "      <td>2018-01-03</td>\n",
       "      <td>[relationship, fall]</td>\n",
       "      <td>2.0</td>\n",
       "      <td>11.130559</td>\n",
       "    </tr>\n",
       "    <tr>\n",
       "      <th>1</th>\n",
       "      <td>2018-01-03</td>\n",
       "      <td>[fuel]</td>\n",
       "      <td>1.0</td>\n",
       "      <td>11.087248</td>\n",
       "    </tr>\n",
       "    <tr>\n",
       "      <th>2</th>\n",
       "      <td>2018-01-03</td>\n",
       "      <td>[people, people, facebook]</td>\n",
       "      <td>3.0</td>\n",
       "      <td>15.191310</td>\n",
       "    </tr>\n",
       "    <tr>\n",
       "      <th>3</th>\n",
       "      <td>2018-01-02</td>\n",
       "      <td>[television, fire, orange, fire, winter, olymp...</td>\n",
       "      <td>9.0</td>\n",
       "      <td>-58.508678</td>\n",
       "    </tr>\n",
       "    <tr>\n",
       "      <th>4</th>\n",
       "      <td>2018-01-01</td>\n",
       "      <td>[death, death, pilot, crash, australia]</td>\n",
       "      <td>5.0</td>\n",
       "      <td>181.628126</td>\n",
       "    </tr>\n",
       "  </tbody>\n",
       "</table>\n",
       "</div>"
      ],
      "text/plain": [
       "      pubdate                                          risk_word  num_words   \n",
       "0  2018-01-03                               [relationship, fall]        2.0  \\\n",
       "1  2018-01-03                                             [fuel]        1.0   \n",
       "2  2018-01-03                         [people, people, facebook]        3.0   \n",
       "3  2018-01-02  [television, fire, orange, fire, winter, olymp...        9.0   \n",
       "4  2018-01-01            [death, death, pilot, crash, australia]        5.0   \n",
       "\n",
       "   risk_score  \n",
       "0   11.130559  \n",
       "1   11.087248  \n",
       "2   15.191310  \n",
       "3  -58.508678  \n",
       "4  181.628126  "
      ]
     },
     "execution_count": 127,
     "metadata": {},
     "output_type": "execute_result"
    }
   ],
   "source": [
    "df_all.head()"
   ]
  },
  {
   "cell_type": "code",
   "execution_count": 137,
   "metadata": {},
   "outputs": [],
   "source": [
    "df_all2 = df_all.dropna().sort_index()\n",
    "df_all2 = df_all2.groupby('pubdate').agg({'num_words':['sum','count'],'risk_score':'sum'})"
   ]
  },
  {
   "cell_type": "code",
   "execution_count": 138,
   "metadata": {},
   "outputs": [],
   "source": [
    "df_all2.columns = df_all2.columns.to_flat_index()"
   ]
  },
  {
   "cell_type": "code",
   "execution_count": 141,
   "metadata": {},
   "outputs": [
    {
     "data": {
      "text/html": [
       "<div>\n",
       "<style scoped>\n",
       "    .dataframe tbody tr th:only-of-type {\n",
       "        vertical-align: middle;\n",
       "    }\n",
       "\n",
       "    .dataframe tbody tr th {\n",
       "        vertical-align: top;\n",
       "    }\n",
       "\n",
       "    .dataframe thead th {\n",
       "        text-align: right;\n",
       "    }\n",
       "</style>\n",
       "<table border=\"1\" class=\"dataframe\">\n",
       "  <thead>\n",
       "    <tr style=\"text-align: right;\">\n",
       "      <th></th>\n",
       "      <th>(num_words, sum)</th>\n",
       "      <th>(num_words, count)</th>\n",
       "      <th>(risk_score, sum)</th>\n",
       "    </tr>\n",
       "    <tr>\n",
       "      <th>pubdate</th>\n",
       "      <th></th>\n",
       "      <th></th>\n",
       "      <th></th>\n",
       "    </tr>\n",
       "  </thead>\n",
       "  <tbody>\n",
       "    <tr>\n",
       "      <th>2017-12-07</th>\n",
       "      <td>70.0</td>\n",
       "      <td>3</td>\n",
       "      <td>434.339784</td>\n",
       "    </tr>\n",
       "    <tr>\n",
       "      <th>2017-12-08</th>\n",
       "      <td>36.0</td>\n",
       "      <td>3</td>\n",
       "      <td>-511.497280</td>\n",
       "    </tr>\n",
       "    <tr>\n",
       "      <th>2017-12-10</th>\n",
       "      <td>1.0</td>\n",
       "      <td>1</td>\n",
       "      <td>-45.235294</td>\n",
       "    </tr>\n",
       "    <tr>\n",
       "      <th>2017-12-13</th>\n",
       "      <td>2.0</td>\n",
       "      <td>1</td>\n",
       "      <td>-5.473070</td>\n",
       "    </tr>\n",
       "    <tr>\n",
       "      <th>2017-12-14</th>\n",
       "      <td>4.0</td>\n",
       "      <td>2</td>\n",
       "      <td>-175.146273</td>\n",
       "    </tr>\n",
       "  </tbody>\n",
       "</table>\n",
       "</div>"
      ],
      "text/plain": [
       "            (num_words, sum)  (num_words, count)  (risk_score, sum)\n",
       "pubdate                                                            \n",
       "2017-12-07              70.0                   3         434.339784\n",
       "2017-12-08              36.0                   3        -511.497280\n",
       "2017-12-10               1.0                   1         -45.235294\n",
       "2017-12-13               2.0                   1          -5.473070\n",
       "2017-12-14               4.0                   2        -175.146273"
      ]
     },
     "execution_count": 141,
     "metadata": {},
     "output_type": "execute_result"
    }
   ],
   "source": [
    "df_all2.head()"
   ]
  },
  {
   "cell_type": "code",
   "execution_count": 63,
   "metadata": {},
   "outputs": [],
   "source": [
    "import pandas_datareader as pdr"
   ]
  },
  {
   "cell_type": "code",
   "execution_count": 142,
   "metadata": {},
   "outputs": [],
   "source": [
    "start = datetime.datetime(2018,1,1)\n",
    "end = datetime.datetime(2018,5,31)\n",
    "vix = pdr.DataReader('VIXCLS', 'fred', start, end).dropna()"
   ]
  },
  {
   "cell_type": "code",
   "execution_count": 143,
   "metadata": {},
   "outputs": [],
   "source": [
    "vix.index = pd.PeriodIndex(vix.index, freq='D')\n",
    "df_all3 = pd.merge(df_all2, vix, how='outer', left_index=True, right_index=True)\n",
    "df_all3 = df_all3.loc['2018-01-01':]\n",
    "df_all3.ffill().bfill(inplace=True)"
   ]
  },
  {
   "cell_type": "markdown",
   "metadata": {},
   "source": [
    "#### Questions\n",
    "- Word cleaning?\n",
    "- Apply Risk score\n",
    "- Number of news by date -> normalise"
   ]
  },
  {
   "cell_type": "code",
   "execution_count": 144,
   "metadata": {},
   "outputs": [],
   "source": [
    "df_all3['mean_risk_score'] = df_all3[('risk_score','sum')] / df_all3[('num_words', 'count')]"
   ]
  },
  {
   "cell_type": "code",
   "execution_count": 145,
   "metadata": {},
   "outputs": [
    {
     "data": {
      "text/html": [
       "<div>\n",
       "<style scoped>\n",
       "    .dataframe tbody tr th:only-of-type {\n",
       "        vertical-align: middle;\n",
       "    }\n",
       "\n",
       "    .dataframe tbody tr th {\n",
       "        vertical-align: top;\n",
       "    }\n",
       "\n",
       "    .dataframe thead th {\n",
       "        text-align: right;\n",
       "    }\n",
       "</style>\n",
       "<table border=\"1\" class=\"dataframe\">\n",
       "  <thead>\n",
       "    <tr style=\"text-align: right;\">\n",
       "      <th></th>\n",
       "      <th>(num_words, sum)</th>\n",
       "      <th>(num_words, count)</th>\n",
       "      <th>(risk_score, sum)</th>\n",
       "      <th>VIXCLS</th>\n",
       "      <th>mean_risk_score</th>\n",
       "    </tr>\n",
       "  </thead>\n",
       "  <tbody>\n",
       "    <tr>\n",
       "      <th>2018-01-01</th>\n",
       "      <td>3448.0</td>\n",
       "      <td>258</td>\n",
       "      <td>15514.807864</td>\n",
       "      <td>NaN</td>\n",
       "      <td>60.134914</td>\n",
       "    </tr>\n",
       "    <tr>\n",
       "      <th>2018-01-02</th>\n",
       "      <td>11620.0</td>\n",
       "      <td>1069</td>\n",
       "      <td>-40505.858346</td>\n",
       "      <td>9.77</td>\n",
       "      <td>-37.891355</td>\n",
       "    </tr>\n",
       "    <tr>\n",
       "      <th>2018-01-03</th>\n",
       "      <td>15200.0</td>\n",
       "      <td>1393</td>\n",
       "      <td>-68785.290803</td>\n",
       "      <td>9.15</td>\n",
       "      <td>-49.379247</td>\n",
       "    </tr>\n",
       "    <tr>\n",
       "      <th>2018-01-04</th>\n",
       "      <td>19908.0</td>\n",
       "      <td>1659</td>\n",
       "      <td>-91354.238121</td>\n",
       "      <td>9.22</td>\n",
       "      <td>-55.065846</td>\n",
       "    </tr>\n",
       "    <tr>\n",
       "      <th>2018-01-05</th>\n",
       "      <td>17051.0</td>\n",
       "      <td>1435</td>\n",
       "      <td>-105114.941009</td>\n",
       "      <td>9.22</td>\n",
       "      <td>-73.250830</td>\n",
       "    </tr>\n",
       "  </tbody>\n",
       "</table>\n",
       "</div>"
      ],
      "text/plain": [
       "            (num_words, sum)  (num_words, count)  (risk_score, sum)  VIXCLS   \n",
       "2018-01-01            3448.0                 258       15514.807864     NaN  \\\n",
       "2018-01-02           11620.0                1069      -40505.858346    9.77   \n",
       "2018-01-03           15200.0                1393      -68785.290803    9.15   \n",
       "2018-01-04           19908.0                1659      -91354.238121    9.22   \n",
       "2018-01-05           17051.0                1435     -105114.941009    9.22   \n",
       "\n",
       "            mean_risk_score  \n",
       "2018-01-01        60.134914  \n",
       "2018-01-02       -37.891355  \n",
       "2018-01-03       -49.379247  \n",
       "2018-01-04       -55.065846  \n",
       "2018-01-05       -73.250830  "
      ]
     },
     "execution_count": 145,
     "metadata": {},
     "output_type": "execute_result"
    }
   ],
   "source": [
    "df_all3.head()"
   ]
  },
  {
   "cell_type": "code",
   "execution_count": 146,
   "metadata": {},
   "outputs": [
    {
     "data": {
      "text/html": [
       "<div>\n",
       "<style scoped>\n",
       "    .dataframe tbody tr th:only-of-type {\n",
       "        vertical-align: middle;\n",
       "    }\n",
       "\n",
       "    .dataframe tbody tr th {\n",
       "        vertical-align: top;\n",
       "    }\n",
       "\n",
       "    .dataframe thead th {\n",
       "        text-align: right;\n",
       "    }\n",
       "</style>\n",
       "<table border=\"1\" class=\"dataframe\">\n",
       "  <thead>\n",
       "    <tr style=\"text-align: right;\">\n",
       "      <th></th>\n",
       "      <th>mean_risk_score</th>\n",
       "      <th>VIXCLS</th>\n",
       "    </tr>\n",
       "  </thead>\n",
       "  <tbody>\n",
       "    <tr>\n",
       "      <th>mean_risk_score</th>\n",
       "      <td>1.000000</td>\n",
       "      <td>-0.009935</td>\n",
       "    </tr>\n",
       "    <tr>\n",
       "      <th>VIXCLS</th>\n",
       "      <td>-0.009935</td>\n",
       "      <td>1.000000</td>\n",
       "    </tr>\n",
       "  </tbody>\n",
       "</table>\n",
       "</div>"
      ],
      "text/plain": [
       "                 mean_risk_score    VIXCLS\n",
       "mean_risk_score         1.000000 -0.009935\n",
       "VIXCLS                 -0.009935  1.000000"
      ]
     },
     "execution_count": 146,
     "metadata": {},
     "output_type": "execute_result"
    }
   ],
   "source": [
    "df_all3[['mean_risk_score', 'VIXCLS']].corr()"
   ]
  },
  {
   "cell_type": "code",
   "execution_count": 149,
   "metadata": {},
   "outputs": [
    {
     "data": {
      "text/plain": [
       "<Axes: >"
      ]
     },
     "execution_count": 149,
     "metadata": {},
     "output_type": "execute_result"
    },
    {
     "data": {
      "image/png": "[encoded data removed]",
      "text/plain": [
       "<Figure size 640x480 with 2 Axes>"
      ]
     },
     "metadata": {},
     "output_type": "display_data"
    }
   ],
   "source": [
    "df_all3[['mean_risk_score', 'VIXCLS']].plot(style='-',secondary_y='VIXCLS')"
   ]
  },
  {
   "cell_type": "code",
   "execution_count": null,
   "metadata": {},
   "outputs": [],
   "source": []
  }
 ],
 "metadata": {
  "kernelspec": {
   "display_name": "cbert",
   "language": "python",
   "name": "python3"
  },
  "language_info": {
   "codemirror_mode": {
    "name": "ipython",
    "version": 3
   },
   "file_extension": ".py",
   "mimetype": "text/x-python",
   "name": "python",
   "nbconvert_exporter": "python",
   "pygments_lexer": "ipython3",
   "version": "3.9.13"
  },
  "orig_nbformat": 4
 },
 "nbformat": 4,
 "nbformat_minor": 2
}
