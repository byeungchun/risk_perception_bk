{
 "cells": [
  {
   "cell_type": "code",
   "execution_count": 47,
   "metadata": {},
   "outputs": [],
   "source": [
    "import os\n",
    "import re\n",
    "import pickle\n",
    "import spacy\n",
    "import datetime\n",
    "import pandas as pd\n",
    "import numpy as np\n",
    "\n",
    "from tqdm import tqdm\n",
    "import pandas_datareader as pdr"
   ]
  },
  {
   "cell_type": "code",
   "execution_count": 23,
   "metadata": {},
   "outputs": [
    {
     "data": {
      "text/plain": [
       "datetime.datetime(1970, 1, 1, 0, 0)"
      ]
     },
     "execution_count": 23,
     "metadata": {},
     "output_type": "execute_result"
    }
   ],
   "source": []
  },
  {
   "cell_type": "code",
   "execution_count": 2,
   "metadata": {},
   "outputs": [],
   "source": [
    "processed_dir = r'D:\\data\\kaggle_news\\processed'\n",
    "news_text_pklfile = 'dic_all_news_text.pkl'"
   ]
  },
  {
   "cell_type": "code",
   "execution_count": 61,
   "metadata": {},
   "outputs": [],
   "source": [
    "df_basel_risk_norms = pd.read_csv('risk_mean_basel_risk_norms.csv')\n",
    "lst_BRN_lower = [x.strip().lower() for x in df_basel_risk_norms.source]\n",
    "df_basel_risk_norms.index =lst_BRN_lower"
   ]
  },
  {
   "cell_type": "code",
   "execution_count": 62,
   "metadata": {},
   "outputs": [
    {
     "data": {
      "text/html": [
       "<div>\n",
       "<style scoped>\n",
       "    .dataframe tbody tr th:only-of-type {\n",
       "        vertical-align: middle;\n",
       "    }\n",
       "\n",
       "    .dataframe tbody tr th {\n",
       "        vertical-align: top;\n",
       "    }\n",
       "\n",
       "    .dataframe thead th {\n",
       "        text-align: right;\n",
       "    }\n",
       "</style>\n",
       "<table border=\"1\" class=\"dataframe\">\n",
       "  <thead>\n",
       "    <tr style=\"text-align: right;\">\n",
       "      <th></th>\n",
       "      <th>source</th>\n",
       "      <th>rating</th>\n",
       "    </tr>\n",
       "  </thead>\n",
       "  <tbody>\n",
       "    <tr>\n",
       "      <th>america</th>\n",
       "      <td>America</td>\n",
       "      <td>8.921053</td>\n",
       "    </tr>\n",
       "    <tr>\n",
       "      <th>antarctic</th>\n",
       "      <td>Antarctic</td>\n",
       "      <td>38.099338</td>\n",
       "    </tr>\n",
       "    <tr>\n",
       "      <th>australia</th>\n",
       "      <td>Australia</td>\n",
       "      <td>-25.805195</td>\n",
       "    </tr>\n",
       "    <tr>\n",
       "      <th>boston</th>\n",
       "      <td>Boston</td>\n",
       "      <td>-14.824324</td>\n",
       "    </tr>\n",
       "    <tr>\n",
       "      <th>california</th>\n",
       "      <td>California</td>\n",
       "      <td>-21.959184</td>\n",
       "    </tr>\n",
       "  </tbody>\n",
       "</table>\n",
       "</div>"
      ],
      "text/plain": [
       "                source     rating\n",
       "america        America   8.921053\n",
       "antarctic    Antarctic  38.099338\n",
       "australia    Australia -25.805195\n",
       "boston          Boston -14.824324\n",
       "california  California -21.959184"
      ]
     },
     "execution_count": 62,
     "metadata": {},
     "output_type": "execute_result"
    }
   ],
   "source": [
    "\n",
    "df_basel_risk_norms.head()"
   ]
  },
  {
   "cell_type": "code",
   "execution_count": 125,
   "metadata": {},
   "outputs": [
    {
     "data": {
      "text/plain": [
       "8.921052631578947"
      ]
     },
     "execution_count": 125,
     "metadata": {},
     "output_type": "execute_result"
    }
   ],
   "source": [
    "df_basel_risk_norms.loc['america','rating']"
   ]
  },
  {
   "cell_type": "code",
   "execution_count": 3,
   "metadata": {},
   "outputs": [],
   "source": [
    "dic_news_text = pickle.load(open(os.path.join(processed_dir, news_text_pklfile), 'rb'))"
   ]
  },
  {
   "cell_type": "markdown",
   "metadata": {},
   "source": []
  },
  {
   "cell_type": "code",
   "execution_count": 8,
   "metadata": {},
   "outputs": [],
   "source": [
    "nlp = spacy.load('en_core_web_lg')"
   ]
  },
  {
   "cell_type": "markdown",
   "metadata": {},
   "source": [
    "<b> (Caution) Below for loop takes 5 hours. Use dic_rick_word_in_news.pkl file! </b>"
   ]
  },
  {
   "cell_type": "code",
   "execution_count": 17,
   "metadata": {},
   "outputs": [
    {
     "name": "stderr",
     "output_type": "stream",
     "text": [
      "100%|██████████| 306188/306188 [5:14:02<00:00, 16.25it/s]   \n"
     ]
    }
   ],
   "source": [
    "riskword_news_file = 'dic_risk_word_in_news.pkl'\n",
    "\n",
    "if os.path.exists(riskword_news_file):\n",
    "    print(f'Loading {riskword_news_file} ...')\n",
    "    dic_risk_word_in_news = pickle.load(open(riskword_news_file, 'rb'))\n",
    "else:\n",
    "    dic_risk_word_in_news = {}\n",
    "    for uuid, dic_text in tqdm(dic_news_text.items()):\n",
    "        news_text = dic_text['text']\n",
    "        # split text into words using re\n",
    "        doc = nlp(news_text)\n",
    "        tokens = [token for token in doc]\n",
    "        lemma_lower = [token.lemma_.lower() for token in tokens]\n",
    "        risk_words = [x for x in lemma_lower if x in lst_BRN_lower]\n",
    "        if len(risk_words) > 0:\n",
    "            dic_risk_word_in_news[uuid] = risk_words"
   ]
  },
  {
   "cell_type": "code",
   "execution_count": 18,
   "metadata": {},
   "outputs": [],
   "source": [
    "if not os.path.exists(riskword_news_file):\n",
    "    pickle.dump(dic_risk_word_in_news, open(riskword_news_file, 'wb'))"
   ]
  },
  {
   "cell_type": "code",
   "execution_count": 114,
   "metadata": {},
   "outputs": [
    {
     "data": {
      "text/plain": [
       "253887"
      ]
     },
     "execution_count": 114,
     "metadata": {},
     "output_type": "execute_result"
    }
   ],
   "source": [
    "len(dic_risk_word_in_news)"
   ]
  },
  {
   "cell_type": "code",
   "execution_count": 20,
   "metadata": {},
   "outputs": [],
   "source": [
    "news_meta_file = 'dic_all_news.pkl'\n",
    "dic_news_meta = pickle.load(open(os.path.join(processed_dir, news_meta_file), 'rb'))"
   ]
  },
  {
   "cell_type": "code",
   "execution_count": 21,
   "metadata": {},
   "outputs": [],
   "source": [
    "first_key = next(iter(dic_news_meta))"
   ]
  },
  {
   "cell_type": "code",
   "execution_count": 23,
   "metadata": {},
   "outputs": [
    {
     "data": {
      "text/plain": [
       "{'organizations': [],\n",
       " 'author': '',\n",
       " 'url': 'https://www.cnbc.com/2018/01/03/emerging-markets-are-set-for-an-even-bigger-rally-in-2018-says-one-technician.html',\n",
       " 'ord_in_thread': 0,\n",
       " 'title': 'Emerging markets are set for an even bigger rally in 2018, says one technician',\n",
       " 'locations': [],\n",
       " 'highlightText': '',\n",
       " 'language': 'english',\n",
       " 'persons': [],\n",
       " 'external_links': [],\n",
       " 'published': '2018-01-03T15:00:00.000+02:00',\n",
       " 'crawled': '2018-01-03T15:34:36.006+02:00',\n",
       " 'highlightTitle': '',\n",
       " 'word_cnt': 303}"
      ]
     },
     "execution_count": 23,
     "metadata": {},
     "output_type": "execute_result"
    }
   ],
   "source": [
    "dic_news_meta[first_key]"
   ]
  },
  {
   "cell_type": "code",
   "execution_count": 24,
   "metadata": {},
   "outputs": [],
   "source": [
    "dic_uuid_pubdate = {key: val['published'] for key, val in dic_news_meta.items()}"
   ]
  },
  {
   "cell_type": "code",
   "execution_count": 25,
   "metadata": {},
   "outputs": [
    {
     "data": {
      "text/plain": [
       "306188"
      ]
     },
     "execution_count": 25,
     "metadata": {},
     "output_type": "execute_result"
    }
   ],
   "source": [
    "len(dic_uuid_pubdate)"
   ]
  },
  {
   "cell_type": "code",
   "execution_count": 269,
   "metadata": {},
   "outputs": [
    {
     "data": {
      "text/html": [
       "<div>\n",
       "<style scoped>\n",
       "    .dataframe tbody tr th:only-of-type {\n",
       "        vertical-align: middle;\n",
       "    }\n",
       "\n",
       "    .dataframe tbody tr th {\n",
       "        vertical-align: top;\n",
       "    }\n",
       "\n",
       "    .dataframe thead th {\n",
       "        text-align: right;\n",
       "    }\n",
       "</style>\n",
       "<table border=\"1\" class=\"dataframe\">\n",
       "  <thead>\n",
       "    <tr style=\"text-align: right;\">\n",
       "      <th></th>\n",
       "      <th>risk_word</th>\n",
       "    </tr>\n",
       "    <tr>\n",
       "      <th>pubdate</th>\n",
       "      <th></th>\n",
       "    </tr>\n",
       "  </thead>\n",
       "  <tbody>\n",
       "    <tr>\n",
       "      <th>2018-01-03</th>\n",
       "      <td>[relationship, fall]</td>\n",
       "    </tr>\n",
       "    <tr>\n",
       "      <th>2018-01-03</th>\n",
       "      <td>[fuel]</td>\n",
       "    </tr>\n",
       "    <tr>\n",
       "      <th>2018-01-03</th>\n",
       "      <td>[people, people, facebook]</td>\n",
       "    </tr>\n",
       "    <tr>\n",
       "      <th>2018-01-02</th>\n",
       "      <td>[television, fire, orange, fire, winter, olymp...</td>\n",
       "    </tr>\n",
       "    <tr>\n",
       "      <th>2018-01-01</th>\n",
       "      <td>[death, death, pilot, crash, australia]</td>\n",
       "    </tr>\n",
       "    <tr>\n",
       "      <th>2018-01-03</th>\n",
       "      <td>[government, government, government, criminal,...</td>\n",
       "    </tr>\n",
       "    <tr>\n",
       "      <th>2018-01-03</th>\n",
       "      <td>[energy, barrel, gas, gas, gas, exposure, gas,...</td>\n",
       "    </tr>\n",
       "    <tr>\n",
       "      <th>2018-01-02</th>\n",
       "      <td>[industry, america, california, chicago, chicago]</td>\n",
       "    </tr>\n",
       "    <tr>\n",
       "      <th>2018-01-03</th>\n",
       "      <td>[technology, tank, learning, technology, indus...</td>\n",
       "    </tr>\n",
       "    <tr>\n",
       "      <th>2018-01-03</th>\n",
       "      <td>[street, tech, technology]</td>\n",
       "    </tr>\n",
       "  </tbody>\n",
       "</table>\n",
       "</div>"
      ],
      "text/plain": [
       "                                                    risk_word\n",
       "pubdate                                                      \n",
       "2018-01-03                               [relationship, fall]\n",
       "2018-01-03                                             [fuel]\n",
       "2018-01-03                         [people, people, facebook]\n",
       "2018-01-02  [television, fire, orange, fire, winter, olymp...\n",
       "2018-01-01            [death, death, pilot, crash, australia]\n",
       "2018-01-03  [government, government, government, criminal,...\n",
       "2018-01-03  [energy, barrel, gas, gas, gas, exposure, gas,...\n",
       "2018-01-02  [industry, america, california, chicago, chicago]\n",
       "2018-01-03  [technology, tank, learning, technology, indus...\n",
       "2018-01-03                         [street, tech, technology]"
      ]
     },
     "execution_count": 269,
     "metadata": {},
     "output_type": "execute_result"
    }
   ],
   "source": [
    "df_pubdate = pd.Series(dic_uuid_pubdate)\n",
    "df_risk = pd.Series(dic_risk_word_in_news)\n",
    "df_all = pd.concat([df_pubdate, df_risk], axis=1)\n",
    "df_all.columns = ['pubdate', 'risk_word']\n",
    "df_all.set_index('pubdate', inplace=True, drop=True)\n",
    "df_all.index = pd.PeriodIndex(df_all.index, freq='D')\n",
    "# df_all.reset_index(inplace=True)\n",
    "df_all.head(10)"
   ]
  },
  {
   "cell_type": "code",
   "execution_count": 271,
   "metadata": {},
   "outputs": [],
   "source": [
    "start = datetime.datetime(2018,1,1)\n",
    "end = datetime.datetime(2018,5,31)\n",
    "vix = pdr.DataReader('VIXCLS', 'fred', start, end).dropna()"
   ]
  },
  {
   "cell_type": "code",
   "execution_count": 272,
   "metadata": {},
   "outputs": [],
   "source": [
    "vix.index = pd.PeriodIndex(vix.index, freq='D')\n",
    "df_all = pd.merge(df_all, vix, how='outer', left_index=True, right_index=True)\n",
    "df_all = df_all.loc['2018-01-01':]\n",
    "df_all = df_all.bfill().ffill()"
   ]
  },
  {
   "cell_type": "code",
   "execution_count": 55,
   "metadata": {},
   "outputs": [
    {
     "data": {
      "text/plain": [
       "False"
      ]
     },
     "execution_count": 55,
     "metadata": {},
     "output_type": "execute_result"
    }
   ],
   "source": [
    "text = 'test'\n",
    "# isinstance(text, list) \n",
    "isinstance(text, np.ndarray)"
   ]
  },
  {
   "cell_type": "code",
   "execution_count": 56,
   "metadata": {},
   "outputs": [],
   "source": [
    "def get_risk_word(text):\n",
    "    if isinstance(text, list):\n",
    "        return int(len(text))\n",
    "    return text\n",
    "\n",
    "df_all['num_words'] = df_all['risk_word'].apply(lambda x: get_risk_word(x))"
   ]
  },
  {
   "cell_type": "code",
   "execution_count": 278,
   "metadata": {},
   "outputs": [
    {
     "data": {
      "text/html": [
       "<div>\n",
       "<style scoped>\n",
       "    .dataframe tbody tr th:only-of-type {\n",
       "        vertical-align: middle;\n",
       "    }\n",
       "\n",
       "    .dataframe tbody tr th {\n",
       "        vertical-align: top;\n",
       "    }\n",
       "\n",
       "    .dataframe thead th {\n",
       "        text-align: right;\n",
       "    }\n",
       "</style>\n",
       "<table border=\"1\" class=\"dataframe\">\n",
       "  <thead>\n",
       "    <tr style=\"text-align: right;\">\n",
       "      <th></th>\n",
       "      <th>risk_word</th>\n",
       "      <th>VIXCLS</th>\n",
       "      <th>num_words</th>\n",
       "    </tr>\n",
       "    <tr>\n",
       "      <th>pubdate</th>\n",
       "      <th></th>\n",
       "      <th></th>\n",
       "      <th></th>\n",
       "    </tr>\n",
       "  </thead>\n",
       "  <tbody>\n",
       "    <tr>\n",
       "      <th>2018-01-01</th>\n",
       "      <td>[death, death, pilot, crash, australia]</td>\n",
       "      <td>9.77</td>\n",
       "      <td>5</td>\n",
       "    </tr>\n",
       "    <tr>\n",
       "      <th>2018-01-01</th>\n",
       "      <td>[slide, fall, street]</td>\n",
       "      <td>9.77</td>\n",
       "      <td>3</td>\n",
       "    </tr>\n",
       "    <tr>\n",
       "      <th>2018-01-01</th>\n",
       "      <td>[doll, doll, space, science, doll, science, te...</td>\n",
       "      <td>9.77</td>\n",
       "      <td>11</td>\n",
       "    </tr>\n",
       "    <tr>\n",
       "      <th>2018-01-01</th>\n",
       "      <td>[machinery, street, criminal, government]</td>\n",
       "      <td>9.77</td>\n",
       "      <td>4</td>\n",
       "    </tr>\n",
       "    <tr>\n",
       "      <th>2018-01-01</th>\n",
       "      <td>[army, military, air, army, army, army, warfar...</td>\n",
       "      <td>9.77</td>\n",
       "      <td>13</td>\n",
       "    </tr>\n",
       "  </tbody>\n",
       "</table>\n",
       "</div>"
      ],
      "text/plain": [
       "                                                    risk_word  VIXCLS   \n",
       "pubdate                                                                 \n",
       "2018-01-01            [death, death, pilot, crash, australia]    9.77  \\\n",
       "2018-01-01                              [slide, fall, street]    9.77   \n",
       "2018-01-01  [doll, doll, space, science, doll, science, te...    9.77   \n",
       "2018-01-01          [machinery, street, criminal, government]    9.77   \n",
       "2018-01-01  [army, military, air, army, army, army, warfar...    9.77   \n",
       "\n",
       "            num_words  \n",
       "pubdate                \n",
       "2018-01-01          5  \n",
       "2018-01-01          3  \n",
       "2018-01-01         11  \n",
       "2018-01-01          4  \n",
       "2018-01-01         13  "
      ]
     },
     "execution_count": 278,
     "metadata": {},
     "output_type": "execute_result"
    }
   ],
   "source": [
    "df_all.head()"
   ]
  },
  {
   "cell_type": "code",
   "execution_count": 304,
   "metadata": {},
   "outputs": [],
   "source": [
    "df_all.to_parquet('df_all.parquet', compression='snappy')"
   ]
  },
  {
   "cell_type": "code",
   "execution_count": 58,
   "metadata": {},
   "outputs": [],
   "source": [
    "df_all = pd.read_parquet('df_all.parquet')\n",
    "df_all.index = pd.PeriodIndex([datetime.datetime.utcfromtimestamp(0) + datetime.timedelta(x) for x in df_all.index], freq='D')\n",
    "df_all.index.name = 'pubdate'"
   ]
  },
  {
   "cell_type": "code",
   "execution_count": 59,
   "metadata": {},
   "outputs": [
    {
     "data": {
      "text/html": [
       "<div>\n",
       "<style scoped>\n",
       "    .dataframe tbody tr th:only-of-type {\n",
       "        vertical-align: middle;\n",
       "    }\n",
       "\n",
       "    .dataframe tbody tr th {\n",
       "        vertical-align: top;\n",
       "    }\n",
       "\n",
       "    .dataframe thead th {\n",
       "        text-align: right;\n",
       "    }\n",
       "</style>\n",
       "<table border=\"1\" class=\"dataframe\">\n",
       "  <thead>\n",
       "    <tr style=\"text-align: right;\">\n",
       "      <th></th>\n",
       "      <th>risk_word</th>\n",
       "      <th>VIXCLS</th>\n",
       "      <th>num_words</th>\n",
       "      <th>risk_score</th>\n",
       "    </tr>\n",
       "    <tr>\n",
       "      <th>pubdate</th>\n",
       "      <th></th>\n",
       "      <th></th>\n",
       "      <th></th>\n",
       "      <th></th>\n",
       "    </tr>\n",
       "  </thead>\n",
       "  <tbody>\n",
       "    <tr>\n",
       "      <th>2018-01-01</th>\n",
       "      <td>[death, death, pilot, crash, australia]</td>\n",
       "      <td>9.77</td>\n",
       "      <td>5</td>\n",
       "      <td>223.670163</td>\n",
       "    </tr>\n",
       "    <tr>\n",
       "      <th>2018-01-01</th>\n",
       "      <td>[slide, fall, street]</td>\n",
       "      <td>9.77</td>\n",
       "      <td>3</td>\n",
       "      <td>NaN</td>\n",
       "    </tr>\n",
       "    <tr>\n",
       "      <th>2018-01-01</th>\n",
       "      <td>[doll, doll, space, science, doll, science, te...</td>\n",
       "      <td>9.77</td>\n",
       "      <td>11</td>\n",
       "      <td>NaN</td>\n",
       "    </tr>\n",
       "    <tr>\n",
       "      <th>2018-01-01</th>\n",
       "      <td>[machinery, street, criminal, government]</td>\n",
       "      <td>9.77</td>\n",
       "      <td>4</td>\n",
       "      <td>65.228758</td>\n",
       "    </tr>\n",
       "    <tr>\n",
       "      <th>2018-01-01</th>\n",
       "      <td>[army, military, air, army, army, army, warfar...</td>\n",
       "      <td>9.77</td>\n",
       "      <td>13</td>\n",
       "      <td>268.806432</td>\n",
       "    </tr>\n",
       "    <tr>\n",
       "      <th>...</th>\n",
       "      <td>...</td>\n",
       "      <td>...</td>\n",
       "      <td>...</td>\n",
       "      <td>...</td>\n",
       "    </tr>\n",
       "    <tr>\n",
       "      <th>2018-06-01</th>\n",
       "      <td>[professor, government, industry]</td>\n",
       "      <td>15.43</td>\n",
       "      <td>3</td>\n",
       "      <td>NaN</td>\n",
       "    </tr>\n",
       "    <tr>\n",
       "      <th>2018-06-01</th>\n",
       "      <td>[government, government]</td>\n",
       "      <td>15.43</td>\n",
       "      <td>2</td>\n",
       "      <td>NaN</td>\n",
       "    </tr>\n",
       "    <tr>\n",
       "      <th>2018-06-01</th>\n",
       "      <td>[california, street, human, street]</td>\n",
       "      <td>15.43</td>\n",
       "      <td>4</td>\n",
       "      <td>NaN</td>\n",
       "    </tr>\n",
       "    <tr>\n",
       "      <th>2018-06-01</th>\n",
       "      <td>[government, board, school, government, univer...</td>\n",
       "      <td>15.43</td>\n",
       "      <td>8</td>\n",
       "      <td>NaN</td>\n",
       "    </tr>\n",
       "    <tr>\n",
       "      <th>2018-06-01</th>\n",
       "      <td>[energy, gas]</td>\n",
       "      <td>15.43</td>\n",
       "      <td>2</td>\n",
       "      <td>NaN</td>\n",
       "    </tr>\n",
       "  </tbody>\n",
       "</table>\n",
       "<p>306113 rows × 4 columns</p>\n",
       "</div>"
      ],
      "text/plain": [
       "                                                    risk_word  VIXCLS   \n",
       "pubdate                                                                 \n",
       "2018-01-01            [death, death, pilot, crash, australia]    9.77  \\\n",
       "2018-01-01                              [slide, fall, street]    9.77   \n",
       "2018-01-01  [doll, doll, space, science, doll, science, te...    9.77   \n",
       "2018-01-01          [machinery, street, criminal, government]    9.77   \n",
       "2018-01-01  [army, military, air, army, army, army, warfar...    9.77   \n",
       "...                                                       ...     ...   \n",
       "2018-06-01                  [professor, government, industry]   15.43   \n",
       "2018-06-01                           [government, government]   15.43   \n",
       "2018-06-01                [california, street, human, street]   15.43   \n",
       "2018-06-01  [government, board, school, government, univer...   15.43   \n",
       "2018-06-01                                      [energy, gas]   15.43   \n",
       "\n",
       "            num_words  risk_score  \n",
       "pubdate                            \n",
       "2018-01-01          5  223.670163  \n",
       "2018-01-01          3         NaN  \n",
       "2018-01-01         11         NaN  \n",
       "2018-01-01          4   65.228758  \n",
       "2018-01-01         13  268.806432  \n",
       "...               ...         ...  \n",
       "2018-06-01          3         NaN  \n",
       "2018-06-01          2         NaN  \n",
       "2018-06-01          4         NaN  \n",
       "2018-06-01          8         NaN  \n",
       "2018-06-01          2         NaN  \n",
       "\n",
       "[306113 rows x 4 columns]"
      ]
     },
     "execution_count": 59,
     "metadata": {},
     "output_type": "execute_result"
    }
   ],
   "source": [
    "df_all"
   ]
  },
  {
   "cell_type": "code",
   "execution_count": 63,
   "metadata": {},
   "outputs": [],
   "source": [
    "def get_risk_word_score(text):\n",
    "    \n",
    "    if isinstance(text, list) or isinstance(text, np.ndarray):\n",
    "        lst_positive_score = []\n",
    "        for x in text:\n",
    "            score = df_basel_risk_norms.loc[x, 'rating']\n",
    "            if score > 50:\n",
    "                lst_positive_score.append(score)\n",
    "        if len(lst_positive_score) > 0:\n",
    "            return sum(lst_positive_score)\n",
    "        # score = sum([df_basel_risk_norms.loc[x, 'rating'] for x in text])\n",
    "    return None\n",
    "\n",
    "df_all['risk_score'] = df_all['risk_word'].apply(lambda x: get_risk_word_score(x))\n"
   ]
  },
  {
   "cell_type": "code",
   "execution_count": 64,
   "metadata": {},
   "outputs": [
    {
     "data": {
      "text/html": [
       "<div>\n",
       "<style scoped>\n",
       "    .dataframe tbody tr th:only-of-type {\n",
       "        vertical-align: middle;\n",
       "    }\n",
       "\n",
       "    .dataframe tbody tr th {\n",
       "        vertical-align: top;\n",
       "    }\n",
       "\n",
       "    .dataframe thead th {\n",
       "        text-align: right;\n",
       "    }\n",
       "</style>\n",
       "<table border=\"1\" class=\"dataframe\">\n",
       "  <thead>\n",
       "    <tr style=\"text-align: right;\">\n",
       "      <th></th>\n",
       "      <th>risk_word</th>\n",
       "      <th>VIXCLS</th>\n",
       "      <th>num_words</th>\n",
       "      <th>risk_score</th>\n",
       "    </tr>\n",
       "    <tr>\n",
       "      <th>pubdate</th>\n",
       "      <th></th>\n",
       "      <th></th>\n",
       "      <th></th>\n",
       "      <th></th>\n",
       "    </tr>\n",
       "  </thead>\n",
       "  <tbody>\n",
       "    <tr>\n",
       "      <th>2018-01-01</th>\n",
       "      <td>[death, death, pilot, crash, australia]</td>\n",
       "      <td>9.77</td>\n",
       "      <td>5</td>\n",
       "      <td>223.670163</td>\n",
       "    </tr>\n",
       "    <tr>\n",
       "      <th>2018-01-01</th>\n",
       "      <td>[slide, fall, street]</td>\n",
       "      <td>9.77</td>\n",
       "      <td>3</td>\n",
       "      <td>NaN</td>\n",
       "    </tr>\n",
       "    <tr>\n",
       "      <th>2018-01-01</th>\n",
       "      <td>[doll, doll, space, science, doll, science, te...</td>\n",
       "      <td>9.77</td>\n",
       "      <td>11</td>\n",
       "      <td>NaN</td>\n",
       "    </tr>\n",
       "    <tr>\n",
       "      <th>2018-01-01</th>\n",
       "      <td>[machinery, street, criminal, government]</td>\n",
       "      <td>9.77</td>\n",
       "      <td>4</td>\n",
       "      <td>65.228758</td>\n",
       "    </tr>\n",
       "    <tr>\n",
       "      <th>2018-01-01</th>\n",
       "      <td>[army, military, air, army, army, army, warfar...</td>\n",
       "      <td>9.77</td>\n",
       "      <td>13</td>\n",
       "      <td>268.806432</td>\n",
       "    </tr>\n",
       "  </tbody>\n",
       "</table>\n",
       "</div>"
      ],
      "text/plain": [
       "                                                    risk_word  VIXCLS   \n",
       "pubdate                                                                 \n",
       "2018-01-01            [death, death, pilot, crash, australia]    9.77  \\\n",
       "2018-01-01                              [slide, fall, street]    9.77   \n",
       "2018-01-01  [doll, doll, space, science, doll, science, te...    9.77   \n",
       "2018-01-01          [machinery, street, criminal, government]    9.77   \n",
       "2018-01-01  [army, military, air, army, army, army, warfar...    9.77   \n",
       "\n",
       "            num_words  risk_score  \n",
       "pubdate                            \n",
       "2018-01-01          5  223.670163  \n",
       "2018-01-01          3         NaN  \n",
       "2018-01-01         11         NaN  \n",
       "2018-01-01          4   65.228758  \n",
       "2018-01-01         13  268.806432  "
      ]
     },
     "execution_count": 64,
     "metadata": {},
     "output_type": "execute_result"
    }
   ],
   "source": [
    "df_all.head()"
   ]
  },
  {
   "cell_type": "code",
   "execution_count": 65,
   "metadata": {},
   "outputs": [],
   "source": [
    "df_all2 = df_all.dropna().sort_index()\n",
    "df_all2 = df_all2.groupby('pubdate').agg({'num_words':['sum','count'],'risk_score':'sum', 'VIXCLS': 'mean'})"
   ]
  },
  {
   "cell_type": "code",
   "execution_count": 66,
   "metadata": {},
   "outputs": [],
   "source": [
    "df_all2.columns = df_all2.columns.to_flat_index()\n",
    "df_all2.columns = ['_'.join(col).strip() for col in df_all2.columns.values]"
   ]
  },
  {
   "cell_type": "code",
   "execution_count": 67,
   "metadata": {},
   "outputs": [],
   "source": [
    "df_all2.columns = ['num_words_sum', 'num_words_count', 'risk_score_sum', 'VIXCLS']"
   ]
  },
  {
   "cell_type": "code",
   "execution_count": 70,
   "metadata": {},
   "outputs": [
    {
     "data": {
      "text/html": [
       "<div>\n",
       "<style scoped>\n",
       "    .dataframe tbody tr th:only-of-type {\n",
       "        vertical-align: middle;\n",
       "    }\n",
       "\n",
       "    .dataframe tbody tr th {\n",
       "        vertical-align: top;\n",
       "    }\n",
       "\n",
       "    .dataframe thead th {\n",
       "        text-align: right;\n",
       "    }\n",
       "</style>\n",
       "<table border=\"1\" class=\"dataframe\">\n",
       "  <thead>\n",
       "    <tr style=\"text-align: right;\">\n",
       "      <th></th>\n",
       "      <th>num_words_sum</th>\n",
       "      <th>num_words_count</th>\n",
       "      <th>risk_score_sum</th>\n",
       "      <th>VIXCLS</th>\n",
       "    </tr>\n",
       "    <tr>\n",
       "      <th>pubdate</th>\n",
       "      <th></th>\n",
       "      <th></th>\n",
       "      <th></th>\n",
       "      <th></th>\n",
       "    </tr>\n",
       "  </thead>\n",
       "  <tbody>\n",
       "    <tr>\n",
       "      <th>2018-01-01</th>\n",
       "      <td>2694</td>\n",
       "      <td>156</td>\n",
       "      <td>42074.428281</td>\n",
       "      <td>9.77</td>\n",
       "    </tr>\n",
       "    <tr>\n",
       "      <th>2018-01-02</th>\n",
       "      <td>8043</td>\n",
       "      <td>501</td>\n",
       "      <td>117937.430752</td>\n",
       "      <td>9.77</td>\n",
       "    </tr>\n",
       "    <tr>\n",
       "      <th>2018-01-03</th>\n",
       "      <td>9077</td>\n",
       "      <td>550</td>\n",
       "      <td>136822.803562</td>\n",
       "      <td>9.15</td>\n",
       "    </tr>\n",
       "    <tr>\n",
       "      <th>2018-01-04</th>\n",
       "      <td>12567</td>\n",
       "      <td>704</td>\n",
       "      <td>174960.840080</td>\n",
       "      <td>9.22</td>\n",
       "    </tr>\n",
       "    <tr>\n",
       "      <th>2018-01-05</th>\n",
       "      <td>9870</td>\n",
       "      <td>541</td>\n",
       "      <td>118005.603874</td>\n",
       "      <td>9.22</td>\n",
       "    </tr>\n",
       "  </tbody>\n",
       "</table>\n",
       "</div>"
      ],
      "text/plain": [
       "            num_words_sum  num_words_count  risk_score_sum  VIXCLS\n",
       "pubdate                                                           \n",
       "2018-01-01           2694              156    42074.428281    9.77\n",
       "2018-01-02           8043              501   117937.430752    9.77\n",
       "2018-01-03           9077              550   136822.803562    9.15\n",
       "2018-01-04          12567              704   174960.840080    9.22\n",
       "2018-01-05           9870              541   118005.603874    9.22"
      ]
     },
     "execution_count": 70,
     "metadata": {},
     "output_type": "execute_result"
    }
   ],
   "source": [
    "df_all2.head()"
   ]
  },
  {
   "cell_type": "markdown",
   "metadata": {},
   "source": [
    "#### Questions\n",
    "- Word cleaning?\n",
    "- Apply Risk score\n",
    "- Number of news by date -> normalise"
   ]
  },
  {
   "cell_type": "code",
   "execution_count": 71,
   "metadata": {},
   "outputs": [],
   "source": [
    "df_all2['mean_risk_score'] = df_all2['risk_score_sum'] # / df_all3[('num_words', 'count')]"
   ]
  },
  {
   "cell_type": "code",
   "execution_count": 73,
   "metadata": {},
   "outputs": [
    {
     "data": {
      "text/plain": [
       "0.02728862525817603"
      ]
     },
     "execution_count": 73,
     "metadata": {},
     "output_type": "execute_result"
    }
   ],
   "source": [
    "df_all2[['mean_risk_score', 'VIXCLS']].dropna().corr().iloc[0,1]"
   ]
  },
  {
   "cell_type": "code",
   "execution_count": 75,
   "metadata": {},
   "outputs": [
    {
     "data": {
      "text/html": [
       "<div>\n",
       "<style scoped>\n",
       "    .dataframe tbody tr th:only-of-type {\n",
       "        vertical-align: middle;\n",
       "    }\n",
       "\n",
       "    .dataframe tbody tr th {\n",
       "        vertical-align: top;\n",
       "    }\n",
       "\n",
       "    .dataframe thead th {\n",
       "        text-align: right;\n",
       "    }\n",
       "</style>\n",
       "<table border=\"1\" class=\"dataframe\">\n",
       "  <thead>\n",
       "    <tr style=\"text-align: right;\">\n",
       "      <th></th>\n",
       "      <th>pubdate</th>\n",
       "      <th>num_words_sum</th>\n",
       "      <th>num_words_count</th>\n",
       "      <th>risk_score_sum</th>\n",
       "      <th>VIXCLS</th>\n",
       "      <th>mean_risk_score</th>\n",
       "    </tr>\n",
       "  </thead>\n",
       "  <tbody>\n",
       "    <tr>\n",
       "      <th>0</th>\n",
       "      <td>2018-01-01</td>\n",
       "      <td>2694</td>\n",
       "      <td>156</td>\n",
       "      <td>42074.428281</td>\n",
       "      <td>9.77</td>\n",
       "      <td>42074.428281</td>\n",
       "    </tr>\n",
       "    <tr>\n",
       "      <th>1</th>\n",
       "      <td>2018-01-02</td>\n",
       "      <td>8043</td>\n",
       "      <td>501</td>\n",
       "      <td>117937.430752</td>\n",
       "      <td>9.77</td>\n",
       "      <td>117937.430752</td>\n",
       "    </tr>\n",
       "    <tr>\n",
       "      <th>2</th>\n",
       "      <td>2018-01-03</td>\n",
       "      <td>9077</td>\n",
       "      <td>550</td>\n",
       "      <td>136822.803562</td>\n",
       "      <td>9.15</td>\n",
       "      <td>136822.803562</td>\n",
       "    </tr>\n",
       "    <tr>\n",
       "      <th>3</th>\n",
       "      <td>2018-01-04</td>\n",
       "      <td>12567</td>\n",
       "      <td>704</td>\n",
       "      <td>174960.840080</td>\n",
       "      <td>9.22</td>\n",
       "      <td>174960.840080</td>\n",
       "    </tr>\n",
       "    <tr>\n",
       "      <th>4</th>\n",
       "      <td>2018-01-05</td>\n",
       "      <td>9870</td>\n",
       "      <td>541</td>\n",
       "      <td>118005.603874</td>\n",
       "      <td>9.22</td>\n",
       "      <td>118005.603874</td>\n",
       "    </tr>\n",
       "    <tr>\n",
       "      <th>...</th>\n",
       "      <td>...</td>\n",
       "      <td>...</td>\n",
       "      <td>...</td>\n",
       "      <td>...</td>\n",
       "      <td>...</td>\n",
       "      <td>...</td>\n",
       "    </tr>\n",
       "    <tr>\n",
       "      <th>147</th>\n",
       "      <td>2018-05-28</td>\n",
       "      <td>5673</td>\n",
       "      <td>339</td>\n",
       "      <td>85103.015590</td>\n",
       "      <td>17.02</td>\n",
       "      <td>85103.015590</td>\n",
       "    </tr>\n",
       "    <tr>\n",
       "      <th>148</th>\n",
       "      <td>2018-05-29</td>\n",
       "      <td>11607</td>\n",
       "      <td>593</td>\n",
       "      <td>175092.332358</td>\n",
       "      <td>17.02</td>\n",
       "      <td>175092.332358</td>\n",
       "    </tr>\n",
       "    <tr>\n",
       "      <th>149</th>\n",
       "      <td>2018-05-30</td>\n",
       "      <td>15028</td>\n",
       "      <td>821</td>\n",
       "      <td>226639.939044</td>\n",
       "      <td>14.94</td>\n",
       "      <td>226639.939044</td>\n",
       "    </tr>\n",
       "    <tr>\n",
       "      <th>150</th>\n",
       "      <td>2018-05-31</td>\n",
       "      <td>13894</td>\n",
       "      <td>678</td>\n",
       "      <td>193577.436491</td>\n",
       "      <td>15.43</td>\n",
       "      <td>193577.436491</td>\n",
       "    </tr>\n",
       "    <tr>\n",
       "      <th>151</th>\n",
       "      <td>2018-06-01</td>\n",
       "      <td>199</td>\n",
       "      <td>16</td>\n",
       "      <td>3572.736615</td>\n",
       "      <td>15.43</td>\n",
       "      <td>3572.736615</td>\n",
       "    </tr>\n",
       "  </tbody>\n",
       "</table>\n",
       "<p>152 rows × 6 columns</p>\n",
       "</div>"
      ],
      "text/plain": [
       "        pubdate  num_words_sum  num_words_count  risk_score_sum  VIXCLS   \n",
       "0    2018-01-01           2694              156    42074.428281    9.77  \\\n",
       "1    2018-01-02           8043              501   117937.430752    9.77   \n",
       "2    2018-01-03           9077              550   136822.803562    9.15   \n",
       "3    2018-01-04          12567              704   174960.840080    9.22   \n",
       "4    2018-01-05           9870              541   118005.603874    9.22   \n",
       "..          ...            ...              ...             ...     ...   \n",
       "147  2018-05-28           5673              339    85103.015590   17.02   \n",
       "148  2018-05-29          11607              593   175092.332358   17.02   \n",
       "149  2018-05-30          15028              821   226639.939044   14.94   \n",
       "150  2018-05-31          13894              678   193577.436491   15.43   \n",
       "151  2018-06-01            199               16     3572.736615   15.43   \n",
       "\n",
       "     mean_risk_score  \n",
       "0       42074.428281  \n",
       "1      117937.430752  \n",
       "2      136822.803562  \n",
       "3      174960.840080  \n",
       "4      118005.603874  \n",
       "..               ...  \n",
       "147     85103.015590  \n",
       "148    175092.332358  \n",
       "149    226639.939044  \n",
       "150    193577.436491  \n",
       "151      3572.736615  \n",
       "\n",
       "[152 rows x 6 columns]"
      ]
     },
     "execution_count": 75,
     "metadata": {},
     "output_type": "execute_result"
    }
   ],
   "source": [
    "df_all2.reset_index()"
   ]
  },
  {
   "cell_type": "code",
   "execution_count": 300,
   "metadata": {},
   "outputs": [
    {
     "data": {
      "text/plain": [
       "<Axes: xlabel='pubdate'>"
      ]
     },
     "execution_count": 300,
     "metadata": {},
     "output_type": "execute_result"
    },
    {
     "data": {
      "image/png": "[encoded data removed]",
      "text/plain": [
       "<Figure size 640x480 with 2 Axes>"
      ]
     },
     "metadata": {},
     "output_type": "display_data"
    }
   ],
   "source": [
    "df_all2[['mean_risk_score', 'VIXCLS']].dropna().plot(style='-',secondary_y='VIXCLS')"
   ]
  },
  {
   "cell_type": "markdown",
   "metadata": {},
   "source": [
    "#### Weekly"
   ]
  },
  {
   "cell_type": "code",
   "execution_count": 76,
   "metadata": {},
   "outputs": [],
   "source": [
    "df_all4 = df_all2.resample('3W').sum()"
   ]
  },
  {
   "cell_type": "code",
   "execution_count": 80,
   "metadata": {},
   "outputs": [
    {
     "data": {
      "text/html": [
       "<div>\n",
       "<style scoped>\n",
       "    .dataframe tbody tr th:only-of-type {\n",
       "        vertical-align: middle;\n",
       "    }\n",
       "\n",
       "    .dataframe tbody tr th {\n",
       "        vertical-align: top;\n",
       "    }\n",
       "\n",
       "    .dataframe thead th {\n",
       "        text-align: right;\n",
       "    }\n",
       "</style>\n",
       "<table border=\"1\" class=\"dataframe\">\n",
       "  <thead>\n",
       "    <tr style=\"text-align: right;\">\n",
       "      <th></th>\n",
       "      <th>pubdate</th>\n",
       "      <th>num_words_sum</th>\n",
       "      <th>num_words_count</th>\n",
       "      <th>risk_score_sum</th>\n",
       "      <th>VIXCLS</th>\n",
       "      <th>mean_risk_score</th>\n",
       "    </tr>\n",
       "  </thead>\n",
       "  <tbody>\n",
       "    <tr>\n",
       "      <th>0</th>\n",
       "      <td>2018-01-01/2018-01-07</td>\n",
       "      <td>179449</td>\n",
       "      <td>11289</td>\n",
       "      <td>2.588576e+06</td>\n",
       "      <td>219.73</td>\n",
       "      <td>2.588576e+06</td>\n",
       "    </tr>\n",
       "    <tr>\n",
       "      <th>1</th>\n",
       "      <td>2018-01-22/2018-01-28</td>\n",
       "      <td>283671</td>\n",
       "      <td>14495</td>\n",
       "      <td>3.585783e+06</td>\n",
       "      <td>440.30</td>\n",
       "      <td>3.585783e+06</td>\n",
       "    </tr>\n",
       "    <tr>\n",
       "      <th>2</th>\n",
       "      <td>2018-02-12/2018-02-18</td>\n",
       "      <td>315786</td>\n",
       "      <td>15339</td>\n",
       "      <td>4.164272e+06</td>\n",
       "      <td>411.42</td>\n",
       "      <td>4.164272e+06</td>\n",
       "    </tr>\n",
       "    <tr>\n",
       "      <th>3</th>\n",
       "      <td>2018-03-05/2018-03-11</td>\n",
       "      <td>263561</td>\n",
       "      <td>13554</td>\n",
       "      <td>3.705579e+06</td>\n",
       "      <td>382.73</td>\n",
       "      <td>3.705579e+06</td>\n",
       "    </tr>\n",
       "    <tr>\n",
       "      <th>4</th>\n",
       "      <td>2018-03-26/2018-04-01</td>\n",
       "      <td>266709</td>\n",
       "      <td>15143</td>\n",
       "      <td>3.838136e+06</td>\n",
       "      <td>437.48</td>\n",
       "      <td>3.838136e+06</td>\n",
       "    </tr>\n",
       "    <tr>\n",
       "      <th>5</th>\n",
       "      <td>2018-04-16/2018-04-22</td>\n",
       "      <td>311524</td>\n",
       "      <td>14517</td>\n",
       "      <td>3.781872e+06</td>\n",
       "      <td>336.20</td>\n",
       "      <td>3.781872e+06</td>\n",
       "    </tr>\n",
       "    <tr>\n",
       "      <th>6</th>\n",
       "      <td>2018-05-07/2018-05-13</td>\n",
       "      <td>293223</td>\n",
       "      <td>14581</td>\n",
       "      <td>4.077234e+06</td>\n",
       "      <td>287.28</td>\n",
       "      <td>4.077234e+06</td>\n",
       "    </tr>\n",
       "    <tr>\n",
       "      <th>7</th>\n",
       "      <td>2018-05-28/2018-06-03</td>\n",
       "      <td>46401</td>\n",
       "      <td>2447</td>\n",
       "      <td>6.839855e+05</td>\n",
       "      <td>79.84</td>\n",
       "      <td>6.839855e+05</td>\n",
       "    </tr>\n",
       "  </tbody>\n",
       "</table>\n",
       "</div>"
      ],
      "text/plain": [
       "                 pubdate  num_words_sum  num_words_count  risk_score_sum   \n",
       "0  2018-01-01/2018-01-07         179449            11289    2.588576e+06  \\\n",
       "1  2018-01-22/2018-01-28         283671            14495    3.585783e+06   \n",
       "2  2018-02-12/2018-02-18         315786            15339    4.164272e+06   \n",
       "3  2018-03-05/2018-03-11         263561            13554    3.705579e+06   \n",
       "4  2018-03-26/2018-04-01         266709            15143    3.838136e+06   \n",
       "5  2018-04-16/2018-04-22         311524            14517    3.781872e+06   \n",
       "6  2018-05-07/2018-05-13         293223            14581    4.077234e+06   \n",
       "7  2018-05-28/2018-06-03          46401             2447    6.839855e+05   \n",
       "\n",
       "   VIXCLS  mean_risk_score  \n",
       "0  219.73     2.588576e+06  \n",
       "1  440.30     3.585783e+06  \n",
       "2  411.42     4.164272e+06  \n",
       "3  382.73     3.705579e+06  \n",
       "4  437.48     3.838136e+06  \n",
       "5  336.20     3.781872e+06  \n",
       "6  287.28     4.077234e+06  \n",
       "7   79.84     6.839855e+05  "
      ]
     },
     "execution_count": 80,
     "metadata": {},
     "output_type": "execute_result"
    }
   ],
   "source": [
    "df_all4.reset_index()"
   ]
  },
  {
   "cell_type": "code",
   "execution_count": 79,
   "metadata": {},
   "outputs": [
    {
     "data": {
      "text/plain": [
       "DatetimeIndex(['2018-01-01', '2018-01-22', '2018-02-12', '2018-03-05',\n",
       "               '2018-03-26', '2018-04-16', '2018-05-07', '2018-05-28'],\n",
       "              dtype='datetime64[ns]', name='pubdate', freq='3W-MON')"
      ]
     },
     "execution_count": 79,
     "metadata": {},
     "output_type": "execute_result"
    }
   ],
   "source": [
    "df_all4.index.to_timestamp()"
   ]
  },
  {
   "cell_type": "code",
   "execution_count": 302,
   "metadata": {},
   "outputs": [
    {
     "data": {
      "text/html": [
       "<div>\n",
       "<style scoped>\n",
       "    .dataframe tbody tr th:only-of-type {\n",
       "        vertical-align: middle;\n",
       "    }\n",
       "\n",
       "    .dataframe tbody tr th {\n",
       "        vertical-align: top;\n",
       "    }\n",
       "\n",
       "    .dataframe thead th {\n",
       "        text-align: right;\n",
       "    }\n",
       "</style>\n",
       "<table border=\"1\" class=\"dataframe\">\n",
       "  <thead>\n",
       "    <tr style=\"text-align: right;\">\n",
       "      <th></th>\n",
       "      <th>mean_risk_score</th>\n",
       "      <th>VIXCLS</th>\n",
       "    </tr>\n",
       "  </thead>\n",
       "  <tbody>\n",
       "    <tr>\n",
       "      <th>mean_risk_score</th>\n",
       "      <td>1.000000</td>\n",
       "      <td>0.868171</td>\n",
       "    </tr>\n",
       "    <tr>\n",
       "      <th>VIXCLS</th>\n",
       "      <td>0.868171</td>\n",
       "      <td>1.000000</td>\n",
       "    </tr>\n",
       "  </tbody>\n",
       "</table>\n",
       "</div>"
      ],
      "text/plain": [
       "                 mean_risk_score    VIXCLS\n",
       "mean_risk_score         1.000000  0.868171\n",
       "VIXCLS                  0.868171  1.000000"
      ]
     },
     "execution_count": 302,
     "metadata": {},
     "output_type": "execute_result"
    }
   ],
   "source": [
    "df_all4[['mean_risk_score', 'VIXCLS']].dropna().corr()"
   ]
  },
  {
   "cell_type": "code",
   "execution_count": 303,
   "metadata": {},
   "outputs": [
    {
     "data": {
      "text/plain": [
       "<Axes: xlabel='pubdate'>"
      ]
     },
     "execution_count": 303,
     "metadata": {},
     "output_type": "execute_result"
    },
    {
     "data": {
      "image/png": "[encoded data removed]",
      "text/plain": [
       "<Figure size 640x480 with 2 Axes>"
      ]
     },
     "metadata": {},
     "output_type": "display_data"
    }
   ],
   "source": [
    "df_all4[['mean_risk_score', 'VIXCLS']].dropna().plot(style='-',secondary_y='VIXCLS')"
   ]
  },
  {
   "cell_type": "code",
   "execution_count": null,
   "metadata": {},
   "outputs": [],
   "source": []
  },
  {
   "cell_type": "code",
   "execution_count": null,
   "metadata": {},
   "outputs": [],
   "source": []
  }
 ],
 "metadata": {
  "kernelspec": {
   "display_name": "cbert",
   "language": "python",
   "name": "python3"
  },
  "language_info": {
   "codemirror_mode": {
    "name": "ipython",
    "version": 3
   },
   "file_extension": ".py",
   "mimetype": "text/x-python",
   "name": "python",
   "nbconvert_exporter": "python",
   "pygments_lexer": "ipython3",
   "version": "3.9.13"
  },
  "orig_nbformat": 4
 },
 "nbformat": 4,
 "nbformat_minor": 2
}
