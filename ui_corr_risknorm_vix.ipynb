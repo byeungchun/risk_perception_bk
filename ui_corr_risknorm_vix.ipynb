{
 "cells": [
  {
   "cell_type": "code",
   "execution_count": 1,
   "metadata": {},
   "outputs": [],
   "source": [
    "%load_ext autoreload\n",
    "%autoreload 2"
   ]
  },
  {
   "cell_type": "code",
   "execution_count": 2,
   "metadata": {},
   "outputs": [],
   "source": [
    "import time\n",
    "import pandas as pd\n",
    "import streamlit as st\n",
    "import altair as alt\n",
    "\n",
    "from bizlogic_corr_risknorm_vix import (\n",
    "    load_df_riskvix,\n",
    "    load_basel_risknorms,\n",
    "    calculate_risk_score,\n",
    "    generate_ui_df,\n",
    "    calculate_corr,\n",
    "    convert_diplay_df,\n",
    ")\n",
    "\n",
    "from streamlit_jupyter import StreamlitPatcher, tqdm"
   ]
  },
  {
   "cell_type": "code",
   "execution_count": 3,
   "metadata": {},
   "outputs": [],
   "source": [
    "df_riskvix = load_df_riskvix(\"df_all.parquet\")\n",
    "df_baselrisknorms = load_basel_risknorms(csvfile=\"risk_mean_basel_risk_norms.csv\")\n",
    "\n",
    "df_ui = None\n",
    "prv_riskword_score_threshold = None"
   ]
  },
  {
   "cell_type": "code",
   "execution_count": 16,
   "metadata": {},
   "outputs": [],
   "source": [
    "riskword_score_threshold = '40'\n",
    "\n",
    "lst_freq = [\"D (daily)\", \"W (Weekly)\", \"M (Monthly)\"]\n",
    "rollup_freq = lst_freq[2]\n",
    "\n",
    "riskword_score_threshold = int(riskword_score_threshold)"
   ]
  },
  {
   "cell_type": "code",
   "execution_count": 17,
   "metadata": {},
   "outputs": [],
   "source": [
    "if df_ui is None or prv_riskword_score_threshold != riskword_score_threshold:\n",
    "    print(f'calculate_risk_score: riskword_score_threshold={riskword_score_threshold}')\n",
    "    df_riskvix = calculate_risk_score(\n",
    "        df_riskvix, df_baselrisknorms, riskword_score_threshold\n",
    "    )"
   ]
  },
  {
   "cell_type": "code",
   "execution_count": 18,
   "metadata": {},
   "outputs": [],
   "source": [
    "target_freq = rollup_freq.split(\" \")[0]"
   ]
  },
  {
   "cell_type": "code",
   "execution_count": 62,
   "metadata": {},
   "outputs": [],
   "source": [
    "df_ui = generate_ui_df(df_riskvix, target_freq)"
   ]
  },
  {
   "cell_type": "code",
   "execution_count": 63,
   "metadata": {},
   "outputs": [
    {
     "name": "stdout",
     "output_type": "stream",
     "text": [
      "Correlation: 0.918\n"
     ]
    }
   ],
   "source": [
    "prv_riskword_score_threshold = riskword_score_threshold\n",
    "\n",
    "corr_val = calculate_corr(df_ui)\n",
    "print(\"Correlation: \" + str(corr_val))"
   ]
  },
  {
   "cell_type": "code",
   "execution_count": 68,
   "metadata": {},
   "outputs": [],
   "source": [
    "cht_base = alt.Chart(df_ui).encode(alt.X(\"pubdate:T\", axis=alt.Axis(title=\"Date\")))\n",
    "\n",
    "line_vix = cht_base.mark_line(stroke=\"#57A44C\", point=alt.OverlayMarkDef(color=\"#57A44C\")).encode(\n",
    "    alt.Y(\"VIXCLS\").title(\"VIX index\")\n",
    ")\n",
    "line_riskscore = cht_base.mark_line(\n",
    "    stroke=\"#5276A7\", point=alt.OverlayMarkDef(color=\"#5276A7\")\n",
    ").encode(alt.Y(\"risk_score_scaled\").title(\"Risk score\"))"
   ]
  },
  {
   "cell_type": "code",
   "execution_count": 69,
   "metadata": {},
   "outputs": [
    {
     "data": {
      "text/html": [
       "\n",
       "<style>\n",
       "  #altair-viz-1c77d684ea4c43bb91bc8b5ac8034137.vega-embed {\n",
       "    width: 100%;\n",
       "    display: flex;\n",
       "  }\n",
       "\n",
       "  #altair-viz-1c77d684ea4c43bb91bc8b5ac8034137.vega-embed details,\n",
       "  #altair-viz-1c77d684ea4c43bb91bc8b5ac8034137.vega-embed details summary {\n",
       "    position: relative;\n",
       "  }\n",
       "</style>\n",
       "<div id=\"altair-viz-1c77d684ea4c43bb91bc8b5ac8034137\"></div>\n",
       "<script type=\"text/javascript\">\n",
       "  var VEGA_DEBUG = (typeof VEGA_DEBUG == \"undefined\") ? {} : VEGA_DEBUG;\n",
       "  (function(spec, embedOpt){\n",
       "    let outputDiv = document.currentScript.previousElementSibling;\n",
       "    if (outputDiv.id !== \"altair-viz-1c77d684ea4c43bb91bc8b5ac8034137\") {\n",
       "      outputDiv = document.getElementById(\"altair-viz-1c77d684ea4c43bb91bc8b5ac8034137\");\n",
       "    }\n",
       "    const paths = {\n",
       "      \"vega\": \"https://cdn.jsdelivr.net/npm/vega@5?noext\",\n",
       "      \"vega-lib\": \"https://cdn.jsdelivr.net/npm/vega-lib?noext\",\n",
       "      \"vega-lite\": \"https://cdn.jsdelivr.net/npm/vega-lite@5.15.1?noext\",\n",
       "      \"vega-embed\": \"https://cdn.jsdelivr.net/npm/vega-embed@6?noext\",\n",
       "    };\n",
       "\n",
       "    function maybeLoadScript(lib, version) {\n",
       "      var key = `${lib.replace(\"-\", \"\")}_version`;\n",
       "      return (VEGA_DEBUG[key] == version) ?\n",
       "        Promise.resolve(paths[lib]) :\n",
       "        new Promise(function(resolve, reject) {\n",
       "          var s = document.createElement('script');\n",
       "          document.getElementsByTagName(\"head\")[0].appendChild(s);\n",
       "          s.async = true;\n",
       "          s.onload = () => {\n",
       "            VEGA_DEBUG[key] = version;\n",
       "            return resolve(paths[lib]);\n",
       "          };\n",
       "          s.onerror = () => reject(`Error loading script: ${paths[lib]}`);\n",
       "          s.src = paths[lib];\n",
       "        });\n",
       "    }\n",
       "\n",
       "    function showError(err) {\n",
       "      outputDiv.innerHTML = `<div class=\"error\" style=\"color:red;\">${err}</div>`;\n",
       "      throw err;\n",
       "    }\n",
       "\n",
       "    function displayChart(vegaEmbed) {\n",
       "      vegaEmbed(outputDiv, spec, embedOpt)\n",
       "        .catch(err => showError(`Javascript Error: ${err.message}<br>This usually means there's a typo in your chart specification. See the javascript console for the full traceback.`));\n",
       "    }\n",
       "\n",
       "    if(typeof define === \"function\" && define.amd) {\n",
       "      requirejs.config({paths});\n",
       "      require([\"vega-embed\"], displayChart, err => showError(`Error loading script: ${err.message}`));\n",
       "    } else {\n",
       "      maybeLoadScript(\"vega\", \"5\")\n",
       "        .then(() => maybeLoadScript(\"vega-lite\", \"5.15.1\"))\n",
       "        .then(() => maybeLoadScript(\"vega-embed\", \"6\"))\n",
       "        .catch(showError)\n",
       "        .then(() => displayChart(vegaEmbed));\n",
       "    }\n",
       "  })({\"config\": {\"view\": {\"continuousWidth\": 300, \"continuousHeight\": 300}, \"axisLeft\": {\"titleColor\": \"#57A44C\"}, \"axisRight\": {\"titleColor\": \"#5276A7\"}}, \"layer\": [{\"mark\": {\"type\": \"line\", \"point\": {\"color\": \"#57A44C\"}, \"stroke\": \"#57A44C\"}, \"encoding\": {\"x\": {\"axis\": {\"title\": \"Date\"}, \"field\": \"pubdate\", \"type\": \"temporal\"}, \"y\": {\"field\": \"VIXCLS\", \"title\": \"VIX index\", \"type\": \"quantitative\"}}}, {\"mark\": {\"type\": \"line\", \"point\": {\"color\": \"#5276A7\"}, \"stroke\": \"#5276A7\"}, \"encoding\": {\"x\": {\"axis\": {\"title\": \"Date\"}, \"field\": \"pubdate\", \"type\": \"temporal\"}, \"y\": {\"field\": \"risk_score_scaled\", \"title\": \"Risk score\", \"type\": \"quantitative\"}}}], \"data\": {\"name\": \"data-c5eafc0d93d9089841c1f44771102678\"}, \"resolve\": {\"scale\": {\"y\": \"independent\"}}, \"$schema\": \"https://vega.github.io/schema/vega-lite/v5.15.1.json\", \"datasets\": {\"data-c5eafc0d93d9089841c1f44771102678\": [{\"pubdate\": \"2018-01-01T00:00:00\", \"risk_score_sum\": 381728, \"news_number\": 23564, \"mean_risk_score\": 5392757.379878348, \"VIXCLS\": 345.84, \"risk_score_scaled\": 0.77}, {\"pubdate\": \"2018-02-01T00:00:00\", \"risk_score_sum\": 487598, \"news_number\": 25671, \"mean_risk_score\": 6504787.754930723, \"VIXCLS\": 646.09, \"risk_score_scaled\": 0.93}, {\"pubdate\": \"2018-03-01T00:00:00\", \"risk_score_sum\": 462517, \"news_number\": 24678, \"mean_risk_score\": 6674607.488140947, \"VIXCLS\": 595.86, \"risk_score_scaled\": 0.95}, {\"pubdate\": \"2018-04-01T00:00:00\", \"risk_score_sum\": 447248, \"news_number\": 25405, \"mean_risk_score\": 6362494.447523343, \"VIXCLS\": 548.4399999999999, \"risk_score_scaled\": 0.91}, {\"pubdate\": \"2018-05-01T00:00:00\", \"risk_score_sum\": 531972, \"news_number\": 26314, \"mean_risk_score\": 7006897.89617623, \"VIXCLS\": 443.32, \"risk_score_scaled\": 1.0}, {\"pubdate\": \"2018-06-01T00:00:00\", \"risk_score_sum\": 199, \"news_number\": 16, \"mean_risk_score\": 3850.056876481735, \"VIXCLS\": 15.43, \"risk_score_scaled\": 0.0}]}}, {\"mode\": \"vega-lite\"});\n",
       "</script>"
      ],
      "text/plain": [
       "alt.LayerChart(...)"
      ]
     },
     "execution_count": 69,
     "metadata": {},
     "output_type": "execute_result"
    }
   ],
   "source": [
    "alt.layer(line_vix, line_riskscore).resolve_scale(y=\"independent\").configure_axisLeft(titleColor='#57A44C').configure_axisRight(titleColor=\"#5276A7\")"
   ]
  },
  {
   "cell_type": "code",
   "execution_count": 67,
   "metadata": {},
   "outputs": [
    {
     "data": {
      "text/html": [
       "<div>\n",
       "<style scoped>\n",
       "    .dataframe tbody tr th:only-of-type {\n",
       "        vertical-align: middle;\n",
       "    }\n",
       "\n",
       "    .dataframe tbody tr th {\n",
       "        vertical-align: top;\n",
       "    }\n",
       "\n",
       "    .dataframe thead th {\n",
       "        text-align: right;\n",
       "    }\n",
       "</style>\n",
       "<table border=\"1\" class=\"dataframe\">\n",
       "  <thead>\n",
       "    <tr style=\"text-align: right;\">\n",
       "      <th></th>\n",
       "      <th>pubdate</th>\n",
       "      <th>mean_risk_score</th>\n",
       "      <th>news_number</th>\n",
       "      <th>VIXCLS</th>\n",
       "    </tr>\n",
       "  </thead>\n",
       "  <tbody>\n",
       "    <tr>\n",
       "      <th>0</th>\n",
       "      <td>2018-01-01</td>\n",
       "      <td>5.392757e+06</td>\n",
       "      <td>23564</td>\n",
       "      <td>345.84</td>\n",
       "    </tr>\n",
       "    <tr>\n",
       "      <th>1</th>\n",
       "      <td>2018-02-01</td>\n",
       "      <td>6.504788e+06</td>\n",
       "      <td>25671</td>\n",
       "      <td>646.09</td>\n",
       "    </tr>\n",
       "    <tr>\n",
       "      <th>2</th>\n",
       "      <td>2018-03-01</td>\n",
       "      <td>6.674607e+06</td>\n",
       "      <td>24678</td>\n",
       "      <td>595.86</td>\n",
       "    </tr>\n",
       "    <tr>\n",
       "      <th>3</th>\n",
       "      <td>2018-04-01</td>\n",
       "      <td>6.362494e+06</td>\n",
       "      <td>25405</td>\n",
       "      <td>548.44</td>\n",
       "    </tr>\n",
       "    <tr>\n",
       "      <th>4</th>\n",
       "      <td>2018-05-01</td>\n",
       "      <td>7.006898e+06</td>\n",
       "      <td>26314</td>\n",
       "      <td>443.32</td>\n",
       "    </tr>\n",
       "    <tr>\n",
       "      <th>5</th>\n",
       "      <td>2018-06-01</td>\n",
       "      <td>3.850057e+03</td>\n",
       "      <td>16</td>\n",
       "      <td>15.43</td>\n",
       "    </tr>\n",
       "  </tbody>\n",
       "</table>\n",
       "</div>"
      ],
      "text/plain": [
       "      pubdate  mean_risk_score  news_number  VIXCLS\n",
       "0  2018-01-01     5.392757e+06        23564  345.84\n",
       "1  2018-02-01     6.504788e+06        25671  646.09\n",
       "2  2018-03-01     6.674607e+06        24678  595.86\n",
       "3  2018-04-01     6.362494e+06        25405  548.44\n",
       "4  2018-05-01     7.006898e+06        26314  443.32\n",
       "5  2018-06-01     3.850057e+03           16   15.43"
      ]
     },
     "metadata": {},
     "output_type": "display_data"
    }
   ],
   "source": [
    "StreamlitPatcher().jupyter() \n",
    "\n",
    "st.dataframe(convert_diplay_df(df_ui))"
   ]
  },
  {
   "cell_type": "code",
   "execution_count": null,
   "metadata": {},
   "outputs": [],
   "source": []
  }
 ],
 "metadata": {
  "kernelspec": {
   "display_name": "cbert",
   "language": "python",
   "name": "python3"
  },
  "language_info": {
   "codemirror_mode": {
    "name": "ipython",
    "version": 3
   },
   "file_extension": ".py",
   "mimetype": "text/x-python",
   "name": "python",
   "nbconvert_exporter": "python",
   "pygments_lexer": "ipython3",
   "version": "3.11.2"
  },
  "orig_nbformat": 4
 },
 "nbformat": 4,
 "nbformat_minor": 2
}
