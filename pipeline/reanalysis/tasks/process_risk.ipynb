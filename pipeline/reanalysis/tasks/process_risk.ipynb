{
 "cells": [
  {
   "cell_type": "code",
   "execution_count": null,
   "id": "af2487e8",
   "metadata": {
    "lines_to_next_cell": 2
   },
   "outputs": [],
   "source": [
    "# Add description here\n",
    "#"
   ]
  },
  {
   "cell_type": "code",
   "execution_count": null,
   "id": "81a4965f",
   "metadata": {},
   "outputs": [],
   "source": [
    "# Uncomment the next two lines to enable auto reloading for imported modules\n",
    "# %load_ext autoreload\n",
    "# %autoreload 2\n",
    "# For more info, see:\n",
    "# https://docs.ploomber.io/en/latest/user-guide/faq_index.html#auto-reloading-code-in-jupyter"
   ]
  },
  {
   "cell_type": "code",
   "execution_count": null,
   "id": "64578947",
   "metadata": {
    "lines_to_next_cell": 2,
    "tags": [
     "parameters"
    ]
   },
   "outputs": [],
   "source": [
    "# If this task has dependencies, declare them in the YAML spec and leave this\n",
    "# as None\n",
    "upstream = None\n",
    "\n",
    "# This is a placeholder, leave it as None\n",
    "product = None"
   ]
  },
  {
   "cell_type": "code",
   "execution_count": null,
   "id": "9ae58352",
   "metadata": {
    "tags": [
     "injected-parameters"
    ]
   },
   "outputs": [],
   "source": [
    "# Parameters\n",
    "studay1a1b_csv = \"D:\\\\unibas\\\\new_embedding_risk_perception\\\\reanalysis\\\\data\\\\raw\\\\Study 1A and 1B - Risk Ratings.csv\"\n",
    "product = {\n",
    "    \"nb\": \"D:\\\\unibas\\\\new_embedding_risk_perception\\\\risk_perception_bk\\\\pipeline\\\\reanalysis\\\\products\\\\process_risk.ipynb\",\n",
    "    \"data\": \"D:\\\\unibas\\\\new_embedding_risk_perception\\\\risk_perception_bk\\\\pipeline\\\\reanalysis\\\\products\\\\risk_mean.csv\",\n",
    "}\n"
   ]
  },
  {
   "cell_type": "code",
   "execution_count": null,
   "id": "069fc458",
   "metadata": {},
   "outputs": [],
   "source": [
    "# your code here..."
   ]
  }
 ],
 "metadata": {
  "kernelspec": {
   "display_name": "Python 3 (ipykernel)",
   "language": "python",
   "name": "python3"
  },
  "papermill": {
   "parameters": {
    "product": {
     "data": "D:\\unibas\\new_embedding_risk_perception\\risk_perception_bk\\pipeline\\reanalysis\\products\\risk_mean.csv",
     "nb": "D:\\unibas\\new_embedding_risk_perception\\risk_perception_bk\\pipeline\\reanalysis\\products\\process_risk.ipynb"
    },
    "studay1a1b_csv": "D:\\unibas\\new_embedding_risk_perception\\reanalysis\\data\\raw\\Study 1A and 1B - Risk Ratings.csv"
   }
  },
  "ploomber": {
   "injected_manually": true
  }
 },
 "nbformat": 4,
 "nbformat_minor": 5
}
