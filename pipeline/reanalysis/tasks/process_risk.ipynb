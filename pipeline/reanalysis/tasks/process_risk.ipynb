{
 "cells": [
  {
   "cell_type": "code",
   "execution_count": null,
   "id": "af2487e8",
   "metadata": {
    "lines_to_next_cell": 2
   },
   "outputs": [],
   "source": [
    "# Add description here\n",
    "#"
   ]
  },
  {
   "cell_type": "code",
   "execution_count": null,
   "id": "81a4965f",
   "metadata": {},
   "outputs": [],
   "source": [
    "# Uncomment the next two lines to enable auto reloading for imported modules\n",
    "# %load_ext autoreload\n",
    "# %autoreload 2\n",
    "# For more info, see:\n",
    "# https://docs.ploomber.io/en/latest/user-guide/faq_index.html#auto-reloading-code-in-jupyter"
   ]
  },
  {
   "cell_type": "code",
   "execution_count": 2,
   "id": "64578947",
   "metadata": {
    "lines_to_next_cell": 2,
    "tags": [
     "parameters"
    ]
   },
   "outputs": [],
   "source": [
    "# If this task has dependencies, declare them in the YAML spec and leave this\n",
    "# as None\n",
    "upstream = None\n",
    "\n",
    "# This is a placeholder, leave it as None\n",
    "product = None"
   ]
  },
  {
   "cell_type": "code",
   "execution_count": null,
   "id": "756ab75a",
   "metadata": {
    "tags": [
     "injected-parameters"
    ]
   },
   "outputs": [],
   "source": [
    "# Parameters\n",
    "study1a1b_csv = \"D:\\\\unibas\\\\new_embedding_risk_perception\\\\reanalysis\\\\data\\\\raw\\\\bhatia\\\\Study 1A and 1B - Risk Ratings.csv\"\n",
    "study2_csv = \"D:\\\\unibas\\\\new_embedding_risk_perception\\\\reanalysis\\\\data\\\\raw\\\\bhatia\\\\Study 2 - Risk Ratings.csv\"\n",
    "product = {\n",
    "    \"nb\": \"D:\\\\unibas\\\\new_embedding_risk_perception\\\\risk_perception_bk\\\\pipeline\\\\reanalysis\\\\products\\\\process_risk.ipynb\",\n",
    "    \"data\": \"D:\\\\unibas\\\\new_embedding_risk_perception\\\\risk_perception_bk\\\\pipeline\\\\reanalysis\\\\products\\\\risk_mean.csv\",\n",
    "}\n"
   ]
  },
  {
   "cell_type": "code",
   "execution_count": 71,
   "id": "069fc458",
   "metadata": {},
   "outputs": [],
   "source": [
    "import os\n",
    "import pandas as pd\n",
    "\n",
    "from scipy.stats import spearmanr\n",
    "from sklearn.model_selection import ShuffleSplit"
   ]
  },
  {
   "cell_type": "code",
   "execution_count": 42,
   "id": "dd7effb9",
   "metadata": {},
   "outputs": [],
   "source": [
    "def load_bhatia_rawdata(filename:str, fieldpos:int):\n",
    "    df_std1 = pd.read_csv(filename, header=1).iloc[1:]\n",
    "    meta_cols = list(df_std1.columns[:18]) + list(df_std1.columns[-2:])\n",
    "    risk_cols = [x for x in df_std1.columns if x not in meta_cols]\n",
    "    df_risk = df_std1[risk_cols]\n",
    "    new_cols = []\n",
    "    for x in df_risk.columns:\n",
    "        x = x.split('-')[fieldpos].strip()\n",
    "        if x == 'waste inceneration':\n",
    "            x = 'waste incineration'\n",
    "        new_cols.append(x)\n",
    "    df_risk.columns = new_cols\n",
    "    \n",
    "    return df_risk"
   ]
  },
  {
   "cell_type": "code",
   "execution_count": 43,
   "id": "f17378d1",
   "metadata": {},
   "outputs": [],
   "source": [
    "dic_filename = {'study1a1b': {'filename':study1a1b_csv, 'fieldpos':0}, 'study2': {'filename':study2_csv, 'fieldpos':1}}\n",
    "dt_raws = {key: load_bhatia_rawdata(**augments) for key, augments in dic_filename.items()}"
   ]
  },
  {
   "cell_type": "code",
   "execution_count": 109,
   "id": "08d707c2",
   "metadata": {},
   "outputs": [],
   "source": [
    "df_raw = pd.concat(dt_raws.values()).astype(float)"
   ]
  },
  {
   "cell_type": "code",
   "execution_count": 95,
   "id": "99dd2570",
   "metadata": {},
   "outputs": [],
   "source": [
    "def spearman_brown_coefficient(half_1, half_2):\n",
    "    rho, _ = spearmanr(half_1, half_2)\n",
    "    rho_sb = (2*rho)/(1+rho)\n",
    "    return rho_sb\n",
    "\n",
    "def calc_mean(ts1, rand_split):\n",
    "    ts1 = ts1.dropna().reset_index(drop=True)\n",
    "    idx1, idx2 = next(rand_split.split(ts1))\n",
    "    return ts1[idx1].mean(), ts1[idx2].mean()\n",
    "num_fold = 10\n",
    "\n",
    "ts_rho_sb = []\n",
    "for i in range(num_fold):\n",
    "    rand_split = ShuffleSplit(n_splits=1, test_size=0.5, random_state=i)\n",
    "    df_raw_split_mean = df_raw.apply(lambda ts1: calc_mean(ts1, rand_split))\n",
    "    rho_sb = spearman_brown_coefficient(df_raw_split_mean.loc[0,:], df_raw_split_mean.loc[1,:])\n",
    "    ts_rho_sb.append(rho_sb)\n",
    "\n",
    "ts_rho_sb = pd.Series(ts_rho_sb)\n",
    "\n",
    "# print mean and std of Spearman-Brown reliability coefficient\n",
    "print('Mean of Spearman-Brown reliability coefficient: ', ts_rho_sb.mean())\n",
    "print('Std of Spearman-Brown reliability coefficient: ', ts_rho_sb.std())"
   ]
  },
  {
   "cell_type": "code",
   "execution_count": 162,
   "id": "57e87407",
   "metadata": {},
   "outputs": [],
   "source": [
    "risk_mean = df_raw.mean(axis=0).reset_index()\n",
    "risk_mean.columns = ['source', 'rating']"
   ]
  },
  {
   "cell_type": "code",
   "execution_count": 163,
   "id": "8d838dfd",
   "metadata": {},
   "outputs": [],
   "source": [
    "# Dropping 'Trump' from risk_mean since lowercase form that ends up getting pulled by SWOW has a very different meaning to uppercase form that is pulled by e.g. GloVe\n",
    "risk_mean = risk_mean[risk_mean['source'] != 'Trump']"
   ]
  },
  {
   "cell_type": "code",
   "execution_count": 164,
   "id": "e93b22c5",
   "metadata": {},
   "outputs": [],
   "source": [
    "risk_mean.to_csv(product['data'], index=False)"
   ]
  },
  {
   "cell_type": "code",
   "execution_count": null,
   "id": "43f1df1e",
   "metadata": {},
   "outputs": [],
   "source": []
  }
 ],
 "metadata": {
  "kernelspec": {
   "display_name": "Python 3 (ipykernel)",
   "language": "python",
   "name": "python3"
  },
  "language_info": {
   "codemirror_mode": {
    "name": "ipython",
    "version": 3
   },
   "file_extension": ".py",
   "mimetype": "text/x-python",
   "name": "python",
   "nbconvert_exporter": "python",
   "pygments_lexer": "ipython3",
   "version": "3.9.13"
  },
  "papermill": {
   "parameters": {
    "product": {
     "data": "D:\\unibas\\new_embedding_risk_perception\\risk_perception_bk\\pipeline\\reanalysis\\products\\risk_mean.csv",
     "nb": "D:\\unibas\\new_embedding_risk_perception\\risk_perception_bk\\pipeline\\reanalysis\\products\\process_risk.ipynb"
    },
    "study1a1b_csv": "D:\\unibas\\new_embedding_risk_perception\\reanalysis\\data\\raw\\bhatia\\Study 1A and 1B - Risk Ratings.csv",
    "study2_csv": "D:\\unibas\\new_embedding_risk_perception\\reanalysis\\data\\raw\\bhatia\\Study 2 - Risk Ratings.csv"
   }
  },
  "ploomber": {
   "injected_manually": true
  }
 },
 "nbformat": 4,
 "nbformat_minor": 5
}
