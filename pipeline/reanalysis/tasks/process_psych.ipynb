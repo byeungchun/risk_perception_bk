{
 "cells": [
  {
   "cell_type": "code",
   "execution_count": null,
   "id": "d48e8776",
   "metadata": {
    "lines_to_next_cell": 2
   },
   "outputs": [],
   "source": [
    "# Add description here\n",
    "#"
   ]
  },
  {
   "cell_type": "code",
   "execution_count": null,
   "id": "d2517bb7",
   "metadata": {},
   "outputs": [],
   "source": [
    "# Uncomment the next two lines to enable auto reloading for imported modules\n",
    "# %load_ext autoreload\n",
    "# %autoreload 2\n",
    "# For more info, see:\n",
    "# https://docs.ploomber.io/en/latest/user-guide/faq_index.html#auto-reloading-code-in-jupyter"
   ]
  },
  {
   "cell_type": "code",
   "execution_count": 1,
   "id": "1e938222",
   "metadata": {
    "lines_to_next_cell": 2,
    "tags": [
     "parameters"
    ]
   },
   "outputs": [],
   "source": [
    "# If this task has dependencies, declare them in the YAML spec and leave this\n",
    "# as None\n",
    "upstream = None\n",
    "\n",
    "# This is a placeholder, leave it as None\n",
    "product = None"
   ]
  },
  {
   "cell_type": "code",
   "execution_count": null,
   "id": "104ac470",
   "metadata": {
    "tags": [
     "injected-parameters"
    ]
   },
   "outputs": [],
   "source": [
    "# Parameters\n",
    "study1a1b_csv = \"D:\\\\unibas\\\\new_embedding_risk_perception\\\\reanalysis\\\\data\\\\raw\\\\bhatia\\\\Study 1A and 1B - Psychometric Dimensions.csv\"\n",
    "study2_csv = \"D:\\\\unibas\\\\new_embedding_risk_perception\\\\reanalysis\\\\data\\\\raw\\\\bhatia\\\\Study 2 - Psychometric Dimensions.csv\"\n",
    "product = {\n",
    "    \"nb\": \"D:\\\\unibas\\\\new_embedding_risk_perception\\\\risk_perception_bk\\\\pipeline\\\\reanalysis\\\\products\\\\process_psych.ipynb\",\n",
    "    \"data\": \"D:\\\\unibas\\\\new_embedding_risk_perception\\\\risk_perception_bk\\\\pipeline\\\\reanalysis\\\\products\\\\psych_mean.csv\",\n",
    "}\n"
   ]
  },
  {
   "cell_type": "code",
   "execution_count": 10,
   "id": "908f5068",
   "metadata": {},
   "outputs": [],
   "source": [
    "import os\n",
    "import pandas as pd\n",
    "\n",
    "from scipy.stats import spearmanr\n",
    "from sklearn.model_selection import ShuffleSplit"
   ]
  },
  {
   "cell_type": "code",
   "execution_count": 39,
   "id": "3046a92b",
   "metadata": {},
   "outputs": [],
   "source": [
    "def load_bhatia_rawdata(filename:str, fieldpos:int):\n",
    "    df_std1 = pd.read_csv(filename, header=1).iloc[1:]\n",
    "    meta_cols = list(df_std1.columns[:18]) + list(df_std1.columns[-2:])\n",
    "    risk_cols = [x for x in df_std1.columns if x not in meta_cols]\n",
    "    df_risk = df_std1[risk_cols]\n",
    "    \n",
    "    new_cols = []\n",
    "    counter =0\n",
    "    prv_name = None\n",
    "    for x in df_risk.columns:\n",
    "        x = x.split(' - ')[fieldpos].strip()\n",
    "        if x == 'waste inceneration':\n",
    "            x = 'waste incineration'\n",
    "        counter +=1\n",
    "        if prv_name is None or prv_name != x:\n",
    "            counter = 1\n",
    "            prv_name = x       \n",
    "        new_cols.append(f'{x}_{counter}')\n",
    "    \n",
    "    \n",
    "    df_risk.columns = new_cols # [f'{x}_{i}' for i, x in enumerate(new_cols)]\n",
    "    \n",
    "    return df_risk"
   ]
  },
  {
   "cell_type": "code",
   "execution_count": 40,
   "id": "a1935fce",
   "metadata": {},
   "outputs": [],
   "source": [
    "dic_filename = {\n",
    "    'study1a1b': {'filename':study1a1b_csv, 'fieldpos':0}, \n",
    "    'study2': {'filename':study2_csv, 'fieldpos':1}\n",
    "}\n",
    "dt_raws = {key: load_bhatia_rawdata(**augments) for key, augments in dic_filename.items()}"
   ]
  },
  {
   "cell_type": "code",
   "execution_count": 41,
   "id": "a2c1b276",
   "metadata": {},
   "outputs": [],
   "source": [
    "df_raw = pd.concat(dt_raws.values()).astype(float)"
   ]
  },
  {
   "cell_type": "code",
   "execution_count": 42,
   "id": "376da2a7",
   "metadata": {},
   "outputs": [
    {
     "name": "stdout",
     "output_type": "stream",
     "text": [
      "Mean of Spearman-Brown reliability coefficient:  0.8655443606263153\n",
      "Std of Spearman-Brown reliability coefficient:  0.003858146677937164\n"
     ]
    }
   ],
   "source": [
    "def spearman_brown_coefficient(half_1, half_2):\n",
    "    rho, _ = spearmanr(half_1, half_2)\n",
    "    rho_sb = (2*rho)/(1+rho)\n",
    "    return rho_sb\n",
    "\n",
    "def calc_mean(ts1, rand_split):\n",
    "    ts1 = ts1.dropna().reset_index(drop=True)\n",
    "    idx1, idx2 = next(rand_split.split(ts1))\n",
    "    return ts1[idx1].mean(), ts1[idx2].mean()\n",
    "num_fold = 10\n",
    "\n",
    "ts_rho_sb = []\n",
    "for i in range(num_fold):\n",
    "    rand_split = ShuffleSplit(n_splits=1, test_size=0.5, random_state=i)\n",
    "    df_raw_split_mean = df_raw.apply(lambda ts1: calc_mean(ts1, rand_split))\n",
    "    rho_sb = spearman_brown_coefficient(df_raw_split_mean.loc[0,:], df_raw_split_mean.loc[1,:])\n",
    "    ts_rho_sb.append(rho_sb)\n",
    "\n",
    "ts_rho_sb = pd.Series(ts_rho_sb)\n",
    "\n",
    "# print mean and std of Spearman-Brown reliability coefficient\n",
    "print('Mean of Spearman-Brown reliability coefficient: ', ts_rho_sb.mean())\n",
    "print('Std of Spearman-Brown reliability coefficient: ', ts_rho_sb.std())"
   ]
  },
  {
   "cell_type": "code",
   "execution_count": 87,
   "id": "7b1b4e52",
   "metadata": {},
   "outputs": [],
   "source": [
    "df_raw_stack = df_raw.mean(axis=0).reset_index()\n",
    "df_raw_stack.columns = ['word','scale']\n"
   ]
  },
  {
   "cell_type": "code",
   "execution_count": 89,
   "id": "f75d8c59",
   "metadata": {},
   "outputs": [],
   "source": [
    "df_raw_stack['level'] = df_raw_stack['word'].apply(lambda x : x.split('_')[1])\n",
    "df_raw_stack['word'] = df_raw_stack['word'].apply(lambda x : x.split('_')[0])"
   ]
  },
  {
   "cell_type": "code",
   "execution_count": 92,
   "id": "b49d0cb5",
   "metadata": {},
   "outputs": [],
   "source": [
    "df_raw_pivot = df_raw_stack.pivot(index='word', columns='level', values='scale')"
   ]
  },
  {
   "cell_type": "code",
   "execution_count": 97,
   "id": "a98c75ec",
   "metadata": {},
   "outputs": [],
   "source": [
    "df_raw_pivot.columns = ['voluntary_involuntary', 'notFatal_fatal', 'immediate_delayed',\n",
    "                      'calm_dread', 'chronic_catastrophic', 'controllable_uncontrollable',\n",
    "                      'known_unknownSci', 'known_unknown', 'new_old']\n",
    "df_raw_pivot = df_raw_pivot.reset_index(names='source')"
   ]
  },
  {
   "cell_type": "code",
   "execution_count": 98,
   "id": "eda1f73b",
   "metadata": {},
   "outputs": [
    {
     "data": {
      "text/html": [
       "<div>\n",
       "<style scoped>\n",
       "    .dataframe tbody tr th:only-of-type {\n",
       "        vertical-align: middle;\n",
       "    }\n",
       "\n",
       "    .dataframe tbody tr th {\n",
       "        vertical-align: top;\n",
       "    }\n",
       "\n",
       "    .dataframe thead th {\n",
       "        text-align: right;\n",
       "    }\n",
       "</style>\n",
       "<table border=\"1\" class=\"dataframe\">\n",
       "  <thead>\n",
       "    <tr style=\"text-align: right;\">\n",
       "      <th></th>\n",
       "      <th>source</th>\n",
       "      <th>voluntary_involuntary</th>\n",
       "      <th>notFatal_fatal</th>\n",
       "      <th>immediate_delayed</th>\n",
       "      <th>calm_dread</th>\n",
       "      <th>chronic_catastrophic</th>\n",
       "      <th>controllable_uncontrollable</th>\n",
       "      <th>known_unknownSci</th>\n",
       "      <th>known_unknown</th>\n",
       "      <th>new_old</th>\n",
       "    </tr>\n",
       "  </thead>\n",
       "  <tbody>\n",
       "    <tr>\n",
       "      <th>0</th>\n",
       "      <td>ISIS</td>\n",
       "      <td>6.200000</td>\n",
       "      <td>2.771429</td>\n",
       "      <td>3.142857</td>\n",
       "      <td>3.542857</td>\n",
       "      <td>5.714286</td>\n",
       "      <td>2.342857</td>\n",
       "      <td>6.114286</td>\n",
       "      <td>5.914286</td>\n",
       "      <td>5.942857</td>\n",
       "    </tr>\n",
       "    <tr>\n",
       "      <th>1</th>\n",
       "      <td>Putin</td>\n",
       "      <td>6.038462</td>\n",
       "      <td>5.076923</td>\n",
       "      <td>4.423077</td>\n",
       "      <td>4.538462</td>\n",
       "      <td>4.807692</td>\n",
       "      <td>3.692308</td>\n",
       "      <td>4.807692</td>\n",
       "      <td>4.384615</td>\n",
       "      <td>4.000000</td>\n",
       "    </tr>\n",
       "    <tr>\n",
       "      <th>2</th>\n",
       "      <td>Trump</td>\n",
       "      <td>4.941176</td>\n",
       "      <td>5.235294</td>\n",
       "      <td>3.617647</td>\n",
       "      <td>3.764706</td>\n",
       "      <td>5.294118</td>\n",
       "      <td>2.147059</td>\n",
       "      <td>4.470588</td>\n",
       "      <td>4.558824</td>\n",
       "      <td>3.617647</td>\n",
       "    </tr>\n",
       "    <tr>\n",
       "      <th>3</th>\n",
       "      <td>accountant</td>\n",
       "      <td>2.083333</td>\n",
       "      <td>6.250000</td>\n",
       "      <td>4.083333</td>\n",
       "      <td>4.333333</td>\n",
       "      <td>3.250000</td>\n",
       "      <td>5.166667</td>\n",
       "      <td>1.333333</td>\n",
       "      <td>1.250000</td>\n",
       "      <td>2.000000</td>\n",
       "    </tr>\n",
       "    <tr>\n",
       "      <th>4</th>\n",
       "      <td>acetaminophen</td>\n",
       "      <td>1.444444</td>\n",
       "      <td>5.888889</td>\n",
       "      <td>2.777778</td>\n",
       "      <td>1.555556</td>\n",
       "      <td>2.222222</td>\n",
       "      <td>5.333333</td>\n",
       "      <td>1.555556</td>\n",
       "      <td>2.666667</td>\n",
       "      <td>3.666667</td>\n",
       "    </tr>\n",
       "    <tr>\n",
       "      <th>...</th>\n",
       "      <td>...</td>\n",
       "      <td>...</td>\n",
       "      <td>...</td>\n",
       "      <td>...</td>\n",
       "      <td>...</td>\n",
       "      <td>...</td>\n",
       "      <td>...</td>\n",
       "      <td>...</td>\n",
       "      <td>...</td>\n",
       "      <td>...</td>\n",
       "    </tr>\n",
       "    <tr>\n",
       "      <th>424</th>\n",
       "      <td>writing</td>\n",
       "      <td>2.227273</td>\n",
       "      <td>5.863636</td>\n",
       "      <td>3.659091</td>\n",
       "      <td>3.454545</td>\n",
       "      <td>2.545455</td>\n",
       "      <td>5.545455</td>\n",
       "      <td>2.272727</td>\n",
       "      <td>1.863636</td>\n",
       "      <td>1.636364</td>\n",
       "    </tr>\n",
       "    <tr>\n",
       "      <th>425</th>\n",
       "      <td>xanax</td>\n",
       "      <td>2.083333</td>\n",
       "      <td>5.250000</td>\n",
       "      <td>2.750000</td>\n",
       "      <td>2.083333</td>\n",
       "      <td>2.416667</td>\n",
       "      <td>3.666667</td>\n",
       "      <td>1.666667</td>\n",
       "      <td>2.666667</td>\n",
       "      <td>3.416667</td>\n",
       "    </tr>\n",
       "    <tr>\n",
       "      <th>426</th>\n",
       "      <td>xray</td>\n",
       "      <td>3.000000</td>\n",
       "      <td>5.714286</td>\n",
       "      <td>2.571429</td>\n",
       "      <td>1.500000</td>\n",
       "      <td>2.928571</td>\n",
       "      <td>5.428571</td>\n",
       "      <td>2.000000</td>\n",
       "      <td>2.785714</td>\n",
       "      <td>3.642857</td>\n",
       "    </tr>\n",
       "    <tr>\n",
       "      <th>427</th>\n",
       "      <td>yardwork</td>\n",
       "      <td>1.826087</td>\n",
       "      <td>4.217391</td>\n",
       "      <td>3.391304</td>\n",
       "      <td>3.478261</td>\n",
       "      <td>2.608696</td>\n",
       "      <td>4.565217</td>\n",
       "      <td>2.217391</td>\n",
       "      <td>1.739130</td>\n",
       "      <td>2.130435</td>\n",
       "    </tr>\n",
       "    <tr>\n",
       "      <th>428</th>\n",
       "      <td>yoga</td>\n",
       "      <td>1.461538</td>\n",
       "      <td>4.461538</td>\n",
       "      <td>3.461538</td>\n",
       "      <td>3.307692</td>\n",
       "      <td>3.000000</td>\n",
       "      <td>5.538462</td>\n",
       "      <td>2.230769</td>\n",
       "      <td>1.384615</td>\n",
       "      <td>1.846154</td>\n",
       "    </tr>\n",
       "  </tbody>\n",
       "</table>\n",
       "<p>429 rows × 10 columns</p>\n",
       "</div>"
      ],
      "text/plain": [
       "            source  voluntary_involuntary  notFatal_fatal  immediate_delayed   \n",
       "0             ISIS               6.200000        2.771429           3.142857  \\\n",
       "1            Putin               6.038462        5.076923           4.423077   \n",
       "2            Trump               4.941176        5.235294           3.617647   \n",
       "3       accountant               2.083333        6.250000           4.083333   \n",
       "4    acetaminophen               1.444444        5.888889           2.777778   \n",
       "..             ...                    ...             ...                ...   \n",
       "424        writing               2.227273        5.863636           3.659091   \n",
       "425          xanax               2.083333        5.250000           2.750000   \n",
       "426           xray               3.000000        5.714286           2.571429   \n",
       "427       yardwork               1.826087        4.217391           3.391304   \n",
       "428           yoga               1.461538        4.461538           3.461538   \n",
       "\n",
       "     calm_dread  chronic_catastrophic  controllable_uncontrollable   \n",
       "0      3.542857              5.714286                     2.342857  \\\n",
       "1      4.538462              4.807692                     3.692308   \n",
       "2      3.764706              5.294118                     2.147059   \n",
       "3      4.333333              3.250000                     5.166667   \n",
       "4      1.555556              2.222222                     5.333333   \n",
       "..          ...                   ...                          ...   \n",
       "424    3.454545              2.545455                     5.545455   \n",
       "425    2.083333              2.416667                     3.666667   \n",
       "426    1.500000              2.928571                     5.428571   \n",
       "427    3.478261              2.608696                     4.565217   \n",
       "428    3.307692              3.000000                     5.538462   \n",
       "\n",
       "     known_unknownSci  known_unknown   new_old  \n",
       "0            6.114286       5.914286  5.942857  \n",
       "1            4.807692       4.384615  4.000000  \n",
       "2            4.470588       4.558824  3.617647  \n",
       "3            1.333333       1.250000  2.000000  \n",
       "4            1.555556       2.666667  3.666667  \n",
       "..                ...            ...       ...  \n",
       "424          2.272727       1.863636  1.636364  \n",
       "425          1.666667       2.666667  3.416667  \n",
       "426          2.000000       2.785714  3.642857  \n",
       "427          2.217391       1.739130  2.130435  \n",
       "428          2.230769       1.384615  1.846154  \n",
       "\n",
       "[429 rows x 10 columns]"
      ]
     },
     "execution_count": 98,
     "metadata": {},
     "output_type": "execute_result"
    }
   ],
   "source": [
    "df_raw_pivot"
   ]
  },
  {
   "cell_type": "code",
   "execution_count": 99,
   "id": "227941ca",
   "metadata": {},
   "outputs": [],
   "source": [
    "df_raw_pivot.to_csv(product['data'], index=False)"
   ]
  },
  {
   "cell_type": "code",
   "execution_count": null,
   "id": "84e0f7b0",
   "metadata": {},
   "outputs": [],
   "source": []
  }
 ],
 "metadata": {
  "kernelspec": {
   "display_name": "Python 3 (ipykernel)",
   "language": "python",
   "name": "python3"
  },
  "language_info": {
   "codemirror_mode": {
    "name": "ipython",
    "version": 3
   },
   "file_extension": ".py",
   "mimetype": "text/x-python",
   "name": "python",
   "nbconvert_exporter": "python",
   "pygments_lexer": "ipython3",
   "version": "3.9.13"
  },
  "papermill": {
   "parameters": {
    "product": {
     "data": "D:\\unibas\\new_embedding_risk_perception\\risk_perception_bk\\pipeline\\reanalysis\\products\\psych_mean.csv",
     "nb": "D:\\unibas\\new_embedding_risk_perception\\risk_perception_bk\\pipeline\\reanalysis\\products\\process_psych.ipynb"
    },
    "study1a1b_csv": "D:\\unibas\\new_embedding_risk_perception\\reanalysis\\data\\raw\\bhatia\\Study 1A and 1B - Psychometric Dimensions.csv",
    "study2_csv": "D:\\unibas\\new_embedding_risk_perception\\reanalysis\\data\\raw\\bhatia\\Study 2 - Psychometric Dimensions.csv"
   }
  },
  "ploomber": {
   "injected_manually": true
  }
 },
 "nbformat": 4,
 "nbformat_minor": 5
}
