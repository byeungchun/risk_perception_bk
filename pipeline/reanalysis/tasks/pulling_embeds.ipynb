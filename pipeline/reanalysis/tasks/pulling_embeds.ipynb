{
 "cells": [
  {
   "cell_type": "code",
   "execution_count": null,
   "id": "dceee536",
   "metadata": {
    "lines_to_next_cell": 2
   },
   "outputs": [],
   "source": [
    "# Add description here\n",
    "#"
   ]
  },
  {
   "cell_type": "code",
   "execution_count": null,
   "id": "55689c7d",
   "metadata": {},
   "outputs": [],
   "source": [
    "# Uncomment the next two lines to enable auto reloading for imported modules\n",
    "# %load_ext autoreload\n",
    "# %autoreload 2\n",
    "# For more info, see:\n",
    "# https://docs.ploomber.io/en/latest/user-guide/faq_index.html#auto-reloading-code-in-jupyter"
   ]
  },
  {
   "cell_type": "code",
   "execution_count": null,
   "id": "c27fc3ac",
   "metadata": {
    "lines_to_next_cell": 2,
    "tags": [
     "parameters"
    ]
   },
   "outputs": [],
   "source": [
    "# If this task has dependencies, declare them in the YAML spec and leave this\n",
    "# as None\n",
    "upstream = None\n",
    "\n",
    "# This is a placeholder, leave it as None\n",
    "product = None"
   ]
  },
  {
   "cell_type": "code",
   "execution_count": null,
   "id": "d2c0748f",
   "metadata": {
    "tags": [
     "injected-parameters"
    ]
   },
   "outputs": [],
   "source": [
    "# Parameters\n",
    "swow_csv = (\n",
    "    \"D:\\\\unibas\\\\new_embedding_risk_perception\\\\reanalysis\\\\data\\\\processed\\\\swow.csv\"\n",
    ")\n",
    "w2v_googlenews = \"D:\\\\unibas\\\\new_embedding_risk_perception\\\\reanalysis\\\\data\\\\raw\\\\GoogleNews-vectors-negative300.bin\"\n",
    "vec_crawl = \"D:\\\\unibas\\\\new_embedding_risk_perception\\\\reanalysis\\\\data\\\\raw\\\\crawl-300d-2M.vec\"\n",
    "vec_glove = \"D:\\\\unibas\\\\new_embedding_risk_perception\\\\reanalysis\\\\data\\\\raw\\\\glove.840B.300d.txt\"\n",
    "upstream = {\n",
    "    \"process_risk\": {\n",
    "        \"nb\": \"D:\\\\unibas\\\\new_embedding_risk_perception\\\\risk_perception_bk\\\\pipeline\\\\reanalysis\\\\products\\\\process_risk.ipynb\",\n",
    "        \"data\": \"D:\\\\unibas\\\\new_embedding_risk_perception\\\\risk_perception_bk\\\\pipeline\\\\reanalysis\\\\products\\\\risk_mean.csv\",\n",
    "    },\n",
    "    \"process_psych\": {\n",
    "        \"nb\": \"D:\\\\unibas\\\\new_embedding_risk_perception\\\\risk_perception_bk\\\\pipeline\\\\reanalysis\\\\products\\\\process_psych.ipynb\",\n",
    "        \"data\": \"D:\\\\unibas\\\\new_embedding_risk_perception\\\\risk_perception_bk\\\\pipeline\\\\reanalysis\\\\products\\\\psych_mean.csv\",\n",
    "    },\n",
    "}\n",
    "product = {\n",
    "    \"nb\": \"D:\\\\unibas\\\\new_embedding_risk_perception\\\\risk_perception_bk\\\\pipeline\\\\reanalysis\\\\products\\\\pulling_embeds.ipynb\",\n",
    "    \"swow\": \"D:\\\\unibas\\\\new_embedding_risk_perception\\\\risk_perception_bk\\\\pipeline\\\\reanalysis\\\\products\\\\swow.csv\",\n",
    "    \"w2v\": \"D:\\\\unibas\\\\new_embedding_risk_perception\\\\risk_perception_bk\\\\pipeline\\\\reanalysis\\\\products\\\\w2v.csv\",\n",
    "    \"ft\": \"D:\\\\unibas\\\\new_embedding_risk_perception\\\\risk_perception_bk\\\\pipeline\\\\reanalysis\\\\products\\\\ft.csv\",\n",
    "    \"glove\": \"D:\\\\unibas\\\\new_embedding_risk_perception\\\\risk_perception_bk\\\\pipeline\\\\reanalysis\\\\products\\\\glove.csv\",\n",
    "    \"risk\": \"D:\\\\unibas\\\\new_embedding_risk_perception\\\\risk_perception_bk\\\\pipeline\\\\reanalysis\\\\products\\\\risk.csv\",\n",
    "    \"psych\": \"D:\\\\unibas\\\\new_embedding_risk_perception\\\\risk_perception_bk\\\\pipeline\\\\reanalysis\\\\products\\\\psych.csv\",\n",
    "}\n"
   ]
  },
  {
   "cell_type": "code",
   "execution_count": null,
   "id": "9018132b",
   "metadata": {},
   "outputs": [],
   "source": [
    "# your code here..."
   ]
  }
 ],
 "metadata": {
  "kernelspec": {
   "display_name": "Python 3 (ipykernel)",
   "language": "python",
   "name": "python3"
  },
  "papermill": {
   "parameters": {
    "product": {
     "ft": "D:\\unibas\\new_embedding_risk_perception\\risk_perception_bk\\pipeline\\reanalysis\\products\\ft.csv",
     "glove": "D:\\unibas\\new_embedding_risk_perception\\risk_perception_bk\\pipeline\\reanalysis\\products\\glove.csv",
     "nb": "D:\\unibas\\new_embedding_risk_perception\\risk_perception_bk\\pipeline\\reanalysis\\products\\pulling_embeds.ipynb",
     "psych": "D:\\unibas\\new_embedding_risk_perception\\risk_perception_bk\\pipeline\\reanalysis\\products\\psych.csv",
     "risk": "D:\\unibas\\new_embedding_risk_perception\\risk_perception_bk\\pipeline\\reanalysis\\products\\risk.csv",
     "swow": "D:\\unibas\\new_embedding_risk_perception\\risk_perception_bk\\pipeline\\reanalysis\\products\\swow.csv",
     "w2v": "D:\\unibas\\new_embedding_risk_perception\\risk_perception_bk\\pipeline\\reanalysis\\products\\w2v.csv"
    },
    "swow_csv": "D:\\unibas\\new_embedding_risk_perception\\reanalysis\\data\\processed\\swow.csv",
    "upstream": {
     "process_psych": {
      "data": "D:\\unibas\\new_embedding_risk_perception\\risk_perception_bk\\pipeline\\reanalysis\\products\\psych_mean.csv",
      "nb": "D:\\unibas\\new_embedding_risk_perception\\risk_perception_bk\\pipeline\\reanalysis\\products\\process_psych.ipynb"
     },
     "process_risk": {
      "data": "D:\\unibas\\new_embedding_risk_perception\\risk_perception_bk\\pipeline\\reanalysis\\products\\risk_mean.csv",
      "nb": "D:\\unibas\\new_embedding_risk_perception\\risk_perception_bk\\pipeline\\reanalysis\\products\\process_risk.ipynb"
     }
    },
    "vec_crawl": "D:\\unibas\\new_embedding_risk_perception\\reanalysis\\data\\raw\\crawl-300d-2M.vec",
    "vec_glove": "D:\\unibas\\new_embedding_risk_perception\\reanalysis\\data\\raw\\glove.840B.300d.txt",
    "w2v_googlenews": "D:\\unibas\\new_embedding_risk_perception\\reanalysis\\data\\raw\\GoogleNews-vectors-negative300.bin"
   }
  },
  "ploomber": {
   "injected_manually": true
  }
 },
 "nbformat": 4,
 "nbformat_minor": 5
}
